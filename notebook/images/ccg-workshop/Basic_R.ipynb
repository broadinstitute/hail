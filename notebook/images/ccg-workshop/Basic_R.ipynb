{
 "cells": [
  {
   "cell_type": "markdown",
   "metadata": {},
   "source": [
    "# Have Fun with R"
   ]
  },
  {
   "cell_type": "markdown",
   "metadata": {},
   "source": [
    "### R as a pocket calculator"
   ]
  },
  {
   "cell_type": "code",
   "execution_count": null,
   "metadata": {
    "scrolled": true
   },
   "outputs": [],
   "source": [
    "# Type a single number:\n",
    "5"
   ]
  },
  {
   "cell_type": "code",
   "execution_count": null,
   "metadata": {},
   "outputs": [],
   "source": [
    "#or\n",
    "print(5)## use it inside functions"
   ]
  },
  {
   "cell_type": "code",
   "execution_count": null,
   "metadata": {},
   "outputs": [],
   "source": [
    "# Simple calculations:\n",
    "13+6\n",
    "5*7\n",
    "10/2"
   ]
  },
  {
   "cell_type": "code",
   "execution_count": null,
   "metadata": {},
   "outputs": [],
   "source": [
    "# A little more advanced:\n",
    "4**3 ## ** equals ^\n",
    "log(10)"
   ]
  },
  {
   "cell_type": "code",
   "execution_count": null,
   "metadata": {},
   "outputs": [],
   "source": [
    "# Combine:\n",
    "5+((10-16)/3*5)"
   ]
  },
  {
   "cell_type": "code",
   "execution_count": null,
   "metadata": {},
   "outputs": [],
   "source": [
    "# Be carful to close every parenthesis:\n",
    "5+((10-16)/3*5 \n"
   ]
  },
  {
   "cell_type": "markdown",
   "metadata": {},
   "source": [
    "### Variables\n",
    "#### What to store in a variable - Numbers"
   ]
  },
  {
   "cell_type": "code",
   "execution_count": null,
   "metadata": {},
   "outputs": [],
   "source": [
    "# Assign a variable:\n",
    "a <- 5 ## Always from left to right"
   ]
  },
  {
   "cell_type": "code",
   "execution_count": null,
   "metadata": {},
   "outputs": [],
   "source": [
    "# Save a calculation for later use:\n",
    "a <- 6+8/4 ## Watch out! Now you overwrote the orignial \"a\" --> it is no longer \"5\"\n",
    "\n",
    "# print a:\n",
    "a"
   ]
  },
  {
   "cell_type": "code",
   "execution_count": null,
   "metadata": {},
   "outputs": [],
   "source": [
    "# And use variables for calculations:\n",
    "A  <- a*3\n",
    "\n",
    "# print a and A:\n",
    "print(c(a,A)) ## Don't worry about the the \"c\" yet :-)\n"
   ]
  },
  {
   "cell_type": "code",
   "execution_count": null,
   "metadata": {},
   "outputs": [],
   "source": [
    "# Give your variables always practical and useful names:\n",
    "my_apples <- 2\n"
   ]
  },
  {
   "cell_type": "code",
   "execution_count": null,
   "metadata": {},
   "outputs": [],
   "source": [
    "# Give your variables always practical and useful names:\n",
    "if <- 3 ## Watch out, \"if\" is a preinstalled function in R"
   ]
  },
  {
   "cell_type": "markdown",
   "metadata": {},
   "source": [
    "#### What to store in a variable - Strings\n"
   ]
  },
  {
   "cell_type": "code",
   "execution_count": null,
   "metadata": {},
   "outputs": [],
   "source": [
    "# Build your first strings ever:\n",
    "mygene <- \"KCNQ2\" ## is the same as ‘KCNQ2’\n",
    "\n",
    "# print your gene:\n",
    "mygene \n"
   ]
  },
  {
   "cell_type": "code",
   "execution_count": null,
   "metadata": {},
   "outputs": [],
   "source": [
    "# Compare numbers and strings:\n",
    "number <- 5\n",
    "number + 5\n"
   ]
  },
  {
   "cell_type": "code",
   "execution_count": null,
   "metadata": {},
   "outputs": [],
   "source": [
    "# Do you see the difference?\n",
    "string_number <- \"5\"\n",
    "string_number + 5"
   ]
  },
  {
   "cell_type": "markdown",
   "metadata": {},
   "source": [
    "#### What to store in a variable - Logical Data"
   ]
  },
  {
   "cell_type": "code",
   "execution_count": null,
   "metadata": {},
   "outputs": [],
   "source": [
    "a > 3 \n",
    "a < 10-8\n",
    "a != 5\n",
    "\n",
    "# print a:\n",
    "a"
   ]
  },
  {
   "cell_type": "markdown",
   "metadata": {},
   "source": [
    "### Operators "
   ]
  },
  {
   "cell_type": "code",
   "execution_count": null,
   "metadata": {},
   "outputs": [],
   "source": [
    "# First define your variables:\n",
    "a <- 5\n",
    "b <- 6\n",
    "\n",
    "# Compare your variables:\n",
    "(a & b) == 6\n"
   ]
  },
  {
   "cell_type": "code",
   "execution_count": null,
   "metadata": {},
   "outputs": [],
   "source": [
    "a | b == 6"
   ]
  },
  {
   "cell_type": "code",
   "execution_count": null,
   "metadata": {},
   "outputs": [],
   "source": [
    "a != b"
   ]
  },
  {
   "cell_type": "code",
   "execution_count": null,
   "metadata": {},
   "outputs": [],
   "source": [
    "# Same for strings:\n",
    "\"a\" < \"b\"\n",
    "\"a\" == \"b\"\n",
    "\"a\" != \"b\"\n"
   ]
  },
  {
   "cell_type": "markdown",
   "metadata": {},
   "source": [
    "### Exercise I"
   ]
  },
  {
   "cell_type": "markdown",
   "metadata": {},
   "source": [
    "#### 1) Assign the output of *10-3* to the variable *result*"
   ]
  },
  {
   "cell_type": "code",
   "execution_count": null,
   "metadata": {},
   "outputs": [],
   "source": []
  },
  {
   "cell_type": "markdown",
   "metadata": {},
   "source": [
    "#### 2) Test if *result* is smaller than *11*? "
   ]
  },
  {
   "cell_type": "code",
   "execution_count": null,
   "metadata": {},
   "outputs": [],
   "source": []
  },
  {
   "cell_type": "markdown",
   "metadata": {},
   "source": [
    "#### 3) Print *result*"
   ]
  },
  {
   "cell_type": "code",
   "execution_count": null,
   "metadata": {},
   "outputs": [],
   "source": []
  },
  {
   "cell_type": "markdown",
   "metadata": {},
   "source": [
    "### Functions"
   ]
  },
  {
   "cell_type": "code",
   "execution_count": null,
   "metadata": {},
   "outputs": [],
   "source": [
    "help(class)"
   ]
  },
  {
   "cell_type": "code",
   "execution_count": null,
   "metadata": {},
   "outputs": [],
   "source": [
    "class(\"text\")"
   ]
  },
  {
   "cell_type": "code",
   "execution_count": null,
   "metadata": {},
   "outputs": [],
   "source": [
    "class(a)"
   ]
  },
  {
   "cell_type": "code",
   "execution_count": null,
   "metadata": {},
   "outputs": [],
   "source": [
    "# Ready to write your own function?\n",
    "\n",
    "Name_of_function <- function(input) { ## create function\n",
    "    mean_squared = mean(input) **2\n",
    "    return(mean_squared)\n",
    "}\n"
   ]
  },
  {
   "cell_type": "markdown",
   "metadata": {},
   "source": [
    "##### Wondering why nothing happend? Go to the next cell and use your function on an input!"
   ]
  },
  {
   "cell_type": "code",
   "execution_count": null,
   "metadata": {},
   "outputs": [],
   "source": [
    "## use function\n",
    "a = c(1, 2, 3, 4)\n",
    "Name_of_function(a)\n"
   ]
  },
  {
   "cell_type": "markdown",
   "metadata": {},
   "source": [
    "##### Congratulations to your first function! You are on your way to become a R programmer :-)"
   ]
  },
  {
   "cell_type": "code",
   "execution_count": null,
   "metadata": {},
   "outputs": [],
   "source": [
    "# Installing new packages makes life easier:\n",
    "    #install.packages(“the_package_you_want_to_install”)\n",
    "\n",
    "# Load package after installation: \n",
    "library(ggplot2)\n"
   ]
  },
  {
   "cell_type": "markdown",
   "metadata": {},
   "source": [
    "### Exercise II"
   ]
  },
  {
   "cell_type": "markdown",
   "metadata": {},
   "source": [
    "#### 4) Write a function called *multiplier* which takes a value and multiplies it with itself"
   ]
  },
  {
   "cell_type": "code",
   "execution_count": null,
   "metadata": {},
   "outputs": [],
   "source": []
  },
  {
   "cell_type": "markdown",
   "metadata": {},
   "source": [
    "#### 5) Test *multiplier* with numbers 4 and 6"
   ]
  },
  {
   "cell_type": "code",
   "execution_count": null,
   "metadata": {},
   "outputs": [],
   "source": []
  },
  {
   "cell_type": "markdown",
   "metadata": {},
   "source": [
    "### Data Structure"
   ]
  },
  {
   "cell_type": "markdown",
   "metadata": {},
   "source": [
    "#### Vectors"
   ]
  },
  {
   "cell_type": "code",
   "execution_count": null,
   "metadata": {},
   "outputs": [],
   "source": [
    "# Make vectors with same data type:\n",
    "Strings <- c(\"A\", \"B\", \"C\")\n",
    "Numbers <- c(1, -2, 3)\n",
    "Booleans <- c(TRUE, FALSE, TRUE)\n",
    "\n",
    "# print:\n",
    "Strings\n",
    "Numbers\n",
    "Booleans"
   ]
  },
  {
   "cell_type": "code",
   "execution_count": null,
   "metadata": {},
   "outputs": [],
   "source": [
    "# Make vectors with different data types --> Caution: R converts all data inside one vector to the same data type following the coercion rule\n",
    "\n",
    "#number to ?\n",
    "vec1 <- c(1.7, \"a\")\n",
    "class(vec1)\n",
    "\n",
    "#boolean to ?\n",
    "vec2 <- c(\"a\", TRUE)\n",
    "class(vec2)\n",
    "\n",
    "#boolean to ?\n",
    "vec3 <- c(TRUE, 2.1)\n",
    "class(vec3)\n"
   ]
  },
  {
   "cell_type": "markdown",
   "metadata": {},
   "source": [
    "##### Cool, you figured out a very important rule in R: logical < numeric < character"
   ]
  },
  {
   "cell_type": "code",
   "execution_count": null,
   "metadata": {},
   "outputs": [],
   "source": [
    "#combine vectors\n",
    "vec4 <- c(vec2, vec3)\n",
    "class(vec4)"
   ]
  },
  {
   "cell_type": "markdown",
   "metadata": {},
   "source": [
    "#### Vector operations"
   ]
  },
  {
   "cell_type": "code",
   "execution_count": null,
   "metadata": {
    "scrolled": true
   },
   "outputs": [],
   "source": [
    "vec5 <- c(1, 2, 3, 4)\n",
    "vec6 <- c(5, 6, 7, 8)\n",
    "\n",
    "# print the result:\n",
    "vec5*5\n"
   ]
  },
  {
   "cell_type": "code",
   "execution_count": null,
   "metadata": {},
   "outputs": [],
   "source": [
    "vec7 <- c(10, 50, 23, -1, 0, -8, 6, 50)\n",
    "vec7[5] ## accesses the 5th element"
   ]
  },
  {
   "cell_type": "code",
   "execution_count": null,
   "metadata": {},
   "outputs": [],
   "source": [
    "#accesses elements 2, 3, 4, 5:\n",
    "vec7[2:5] \n",
    "\n",
    "#or like this\n",
    "vec7[c(2, 3, 4, 5)]"
   ]
  },
  {
   "cell_type": "code",
   "execution_count": null,
   "metadata": {},
   "outputs": [],
   "source": [
    "# Iterate a vector: \n",
    "for (number in vec7) {\n",
    "    print(number)\n",
    " }\n"
   ]
  },
  {
   "cell_type": "markdown",
   "metadata": {},
   "source": [
    "### Exercise III"
   ]
  },
  {
   "cell_type": "markdown",
   "metadata": {},
   "source": [
    "#### 6) Take the square of each value of *vec7* using a for loop"
   ]
  },
  {
   "cell_type": "code",
   "execution_count": null,
   "metadata": {},
   "outputs": [],
   "source": []
  },
  {
   "cell_type": "markdown",
   "metadata": {},
   "source": [
    "#### 7) Which values are greater than 3?"
   ]
  },
  {
   "cell_type": "code",
   "execution_count": null,
   "metadata": {},
   "outputs": [],
   "source": []
  },
  {
   "cell_type": "markdown",
   "metadata": {},
   "source": [
    "#### Lists"
   ]
  },
  {
   "cell_type": "code",
   "execution_count": null,
   "metadata": {},
   "outputs": [],
   "source": [
    "# Create your first list:\n",
    "my_list <- list(c(1, 2, 3), c(\"a\"), c(TRUE, FALSE))"
   ]
  },
  {
   "cell_type": "code",
   "execution_count": null,
   "metadata": {},
   "outputs": [],
   "source": [
    "# Access elements:\n",
    "my_list[1]\n",
    "my_list[2:3]\n",
    "my_list[c(1, 3)]"
   ]
  },
  {
   "cell_type": "code",
   "execution_count": null,
   "metadata": {},
   "outputs": [],
   "source": [
    "# Name a list: \n",
    "names(my_list) <- c(\"numbers\", \"strings\", \"boolean\")\n",
    "\n",
    "# Call by name:\n",
    "my_list$strings\n",
    "\n",
    "# or\n",
    "my_list[\"strings\"]  \n"
   ]
  },
  {
   "cell_type": "markdown",
   "metadata": {},
   "source": [
    "#### Dataframes"
   ]
  },
  {
   "cell_type": "code",
   "execution_count": null,
   "metadata": {},
   "outputs": [],
   "source": [
    "# Build your first data frame:\n",
    "Gene <- c(\"SCN1A\", \"BRAF\", \"DEPDC5\", \"TSC1\")\n",
    "Length <- c(2009, 766, 1603, 1164)\n",
    "Mass <- c(228972, 84437, 181264, 129767)\n",
    "my_df <-data.frame(Gene, Length, Mass) \n",
    "my_df"
   ]
  },
  {
   "cell_type": "code",
   "execution_count": null,
   "metadata": {},
   "outputs": [],
   "source": [
    "# Access elements:\n",
    "my_df[2, 1] ## get the second element of the first column\n",
    "my_df[, 2] ## get all elements of the second column\n",
    "my_df$Gene ## extract all Genes"
   ]
  },
  {
   "cell_type": "code",
   "execution_count": null,
   "metadata": {},
   "outputs": [],
   "source": [
    "# Subset your data frame:\n",
    "subset(my_df, Length > 1500, select = Gene)\n"
   ]
  },
  {
   "cell_type": "markdown",
   "metadata": {},
   "source": [
    "### Exercise IV"
   ]
  },
  {
   "cell_type": "markdown",
   "metadata": {},
   "source": [
    "#### 8) Extract all genes with their corresponding mass from *my_df*"
   ]
  },
  {
   "cell_type": "code",
   "execution_count": null,
   "metadata": {},
   "outputs": [],
   "source": []
  },
  {
   "cell_type": "markdown",
   "metadata": {},
   "source": [
    "#### 9) Extract the length of the gene with a mass equal to  *129767*"
   ]
  },
  {
   "cell_type": "code",
   "execution_count": null,
   "metadata": {},
   "outputs": [],
   "source": []
  },
  {
   "cell_type": "markdown",
   "metadata": {},
   "source": [
    "#### 10) Which gene is it?"
   ]
  },
  {
   "cell_type": "code",
   "execution_count": null,
   "metadata": {},
   "outputs": [],
   "source": []
  },
  {
   "cell_type": "markdown",
   "metadata": {},
   "source": [
    "### Conditional Statements and Loops"
   ]
  },
  {
   "cell_type": "markdown",
   "metadata": {},
   "source": [
    "##### Now its getting harder! However, don't bury your heads in the sand ;-)"
   ]
  },
  {
   "cell_type": "code",
   "execution_count": null,
   "metadata": {},
   "outputs": [],
   "source": [
    "# Let's start with the if condition (to run a specific command only if a certain condition is true):\n",
    "x <- 5\n",
    "y <- 2\n",
    "z <- 3\n",
    "\n",
    "if (x > 3) {\n",
    "    print(\"The variable is greater than 3\")\n",
    "} \n"
   ]
  },
  {
   "cell_type": "code",
   "execution_count": null,
   "metadata": {},
   "outputs": [],
   "source": [
    "# Add an alternative:\n",
    "if (y > 3) {\n",
    "    print(\"The variable is greater than 3\")\n",
    "} else{\n",
    "    print(\"The variable is smaller than 3\")\n",
    "    }\n",
    "\n"
   ]
  },
  {
   "cell_type": "code",
   "execution_count": null,
   "metadata": {},
   "outputs": [],
   "source": [
    "# Try here with different variables and replace the \"?\":\n",
    "if (z > 3) {\n",
    "    print(\"The variable is greater than 3\")\n",
    "} else{\n",
    "    print(\"The variable is smaller than 3\")\n",
    "    }"
   ]
  },
  {
   "cell_type": "code",
   "execution_count": null,
   "metadata": {},
   "outputs": [],
   "source": [
    "# Add another alternative:\n",
    "\n",
    "if (z > 3) {\n",
    "    print(\"The variable is greater than 3\")\n",
    "} else if(z == 3){\n",
    "    print(\"The variable equals 3\")\n",
    "} else{\n",
    "    print(\"The variable is smaller than 3\")\n",
    "}\n"
   ]
  },
  {
   "cell_type": "code",
   "execution_count": null,
   "metadata": {},
   "outputs": [],
   "source": [
    "# Let's go on with for loops:\n",
    "\n",
    "for (n in 1:5) {\n",
    "       print(n)\n",
    "}\n",
    "\n"
   ]
  },
  {
   "cell_type": "code",
   "execution_count": null,
   "metadata": {},
   "outputs": [],
   "source": [
    "numbers <- c(3,9,2.3,-2)\n",
    "\n",
    "for (number in numbers) {\n",
    "    if(number > 0) {\n",
    "        print(paste(number,\"is larger than 0!\"))\n",
    "    }else {\n",
    "        print(paste(number, \"is smaller or equal to 0!\"))\n",
    "    }\n",
    "}"
   ]
  },
  {
   "cell_type": "markdown",
   "metadata": {},
   "source": [
    "### Exercise V"
   ]
  },
  {
   "cell_type": "markdown",
   "metadata": {},
   "source": [
    "#### 11) Iterate 1:10 and add all values smaller than 5 to 20 otherwise substract them. "
   ]
  },
  {
   "cell_type": "code",
   "execution_count": null,
   "metadata": {},
   "outputs": [],
   "source": [
    "for (i in 1:10) {\n",
    "    if (i < 5){\n",
    "        print(20+i)\n",
    "    }else {\n",
    "        print(20-i)\n",
    "    }\n",
    "}"
   ]
  },
  {
   "cell_type": "markdown",
   "metadata": {},
   "source": [
    "### From file to plot "
   ]
  },
  {
   "cell_type": "markdown",
   "metadata": {},
   "source": [
    "##### Ready to work on your first R visualization?"
   ]
  },
  {
   "cell_type": "code",
   "execution_count": null,
   "metadata": {},
   "outputs": [],
   "source": [
    "# Read in your data\n",
    "mycars <- read.table(\"workshop_cars.txt\", header = TRUE, sep = \"\\t\")\n"
   ]
  },
  {
   "cell_type": "code",
   "execution_count": null,
   "metadata": {},
   "outputs": [],
   "source": [
    "# How do the first lines of your data frame look like?\n",
    "head(mycars)"
   ]
  },
  {
   "cell_type": "code",
   "execution_count": null,
   "metadata": {},
   "outputs": [],
   "source": [
    "# How do the last lines of your data frame look like?\n",
    "tail(mycars)"
   ]
  },
  {
   "cell_type": "code",
   "execution_count": null,
   "metadata": {},
   "outputs": [],
   "source": [
    "# An overview of your data:\n",
    "str(mycars)"
   ]
  },
  {
   "cell_type": "code",
   "execution_count": null,
   "metadata": {},
   "outputs": [],
   "source": [
    "# An other overview of your data:\n",
    "summary(mycars)"
   ]
  },
  {
   "cell_type": "code",
   "execution_count": null,
   "metadata": {},
   "outputs": [],
   "source": [
    "# Change colname \"X\" to \"cars\":\n",
    "colnames(mycars)[colnames(mycars)==\"X\"] <- \"cars\"\n",
    "colnames(mycars)"
   ]
  },
  {
   "cell_type": "code",
   "execution_count": null,
   "metadata": {},
   "outputs": [],
   "source": [
    "# Load the package you need:\n",
    "library(ggplot2)"
   ]
  },
  {
   "cell_type": "code",
   "execution_count": null,
   "metadata": {},
   "outputs": [],
   "source": [
    "# Histograms are useful to get a first impression of the distribution of the data\n",
    "ggplot(mycars, aes(hp)) +\n",
    "    geom_histogram() +\n",
    "    ylab(\"Number of Cars\") +\n",
    "    ggtitle(\"Distribution of Cars by Horsepower\") \n"
   ]
  },
  {
   "cell_type": "code",
   "execution_count": null,
   "metadata": {},
   "outputs": [],
   "source": [
    "# Change bindwidth because R asked for it (and my the way it makes sense in this case ;-)):\n",
    "ggplot(mycars, aes(hp)) +\n",
    "    geom_histogram(binwidth = 20) +\n",
    "    ylab(\"Number of Cars\") +\n",
    "    ggtitle(\"Distribution of Cars by Horsepower\") \n"
   ]
  },
  {
   "cell_type": "code",
   "execution_count": null,
   "metadata": {},
   "outputs": [],
   "source": [
    "# Scatter plot\n",
    "ggplot(mycars, aes(x = hp, y = mpg, color = as.factor(am))) +\n",
    "    geom_point() + \n",
    "    scale_color_manual(values = c(\"red\",\"blue\"), labels = c(\"automatic\", \"manual\"))+     \n",
    "    ylab(\"Fuel Consumption [Miles per gallon]\") +\n",
    "    xlab(\"Horsepower\")        "
   ]
  },
  {
   "cell_type": "code",
   "execution_count": null,
   "metadata": {},
   "outputs": [],
   "source": [
    "# Modify mycars\n",
    "colnames(mycars)[colnames(mycars)==\"am\"] <- \"gearshift\"\n",
    "\n",
    "# Show how many different entries are in col \"gearshift\"\n",
    "table(mycars$gearshift)\n"
   ]
  },
  {
   "cell_type": "code",
   "execution_count": null,
   "metadata": {},
   "outputs": [],
   "source": [
    "# Replace values of col \"am\"\n",
    "mycars$gearshift<-ifelse(mycars$gearshift==\"1\",\"manual\",\"automatic\")\n",
    "table(mycars$gearshift)"
   ]
  },
  {
   "cell_type": "code",
   "execution_count": null,
   "metadata": {},
   "outputs": [],
   "source": [
    "# Look for your dream car:\n",
    "dreamcar <- mycars[mycars$gearshift == \"automatic\"  & mycars$wt <3.2,] \n",
    "dreamcar\n"
   ]
  },
  {
   "cell_type": "code",
   "execution_count": null,
   "metadata": {},
   "outputs": [],
   "source": [
    "# Sort by fuel consumption\n",
    "Dreamcar_ordered <- dreamcar[order(dreamcar$mpg, decreasing = FALSE),]\n",
    "Dreamcar_ordered\n"
   ]
  },
  {
   "cell_type": "code",
   "execution_count": null,
   "metadata": {},
   "outputs": [],
   "source": [
    "# Add ranks:\n",
    "Dreamcar_ordered$ranking <- c(3:1)\n",
    "Dreamcar_ordered"
   ]
  },
  {
   "cell_type": "code",
   "execution_count": null,
   "metadata": {},
   "outputs": [],
   "source": [
    "# Save your new data frame\n",
    "write.table(Dreamcar_ordered, \"Dreamcar.txt\", sep = \"\\t\")\n"
   ]
  },
  {
   "cell_type": "markdown",
   "metadata": {},
   "source": [
    "### Exercise VI"
   ]
  },
  {
   "cell_type": "markdown",
   "metadata": {},
   "source": [
    "##### Let's be creative before we are finished "
   ]
  },
  {
   "cell_type": "markdown",
   "metadata": {},
   "source": [
    "#### 12) Read in *workshop_plants.txt*"
   ]
  },
  {
   "cell_type": "code",
   "execution_count": null,
   "metadata": {},
   "outputs": [],
   "source": []
  },
  {
   "cell_type": "markdown",
   "metadata": {},
   "source": [
    "#### 13) Find the species with the largest *mean* of the *Sepal.Width* "
   ]
  },
  {
   "cell_type": "code",
   "execution_count": null,
   "metadata": {},
   "outputs": [],
   "source": []
  },
  {
   "cell_type": "markdown",
   "metadata": {},
   "source": [
    "#### 14) Plot *Sepal.Length* against *Petal.Length* using a scatter plot and label the species with different colors "
   ]
  },
  {
   "cell_type": "code",
   "execution_count": null,
   "metadata": {},
   "outputs": [],
   "source": []
  },
  {
   "cell_type": "markdown",
   "metadata": {},
   "source": [
    "#### 15) Create a subset of large indivduals with *Sepal.Length* greater than 5 and save them in *large_flowers.txt*"
   ]
  },
  {
   "cell_type": "code",
   "execution_count": null,
   "metadata": {},
   "outputs": [],
   "source": []
  }
 ],
 "metadata": {
  "kernelspec": {
   "display_name": "R",
   "language": "R",
   "name": "ir"
  },
  "language_info": {
   "codemirror_mode": "r",
   "file_extension": ".r",
   "mimetype": "text/x-r-source",
   "name": "R",
   "pygments_lexer": "r",
   "version": "3.4.4"
  }
 },
 "nbformat": 4,
 "nbformat_minor": 2
}
