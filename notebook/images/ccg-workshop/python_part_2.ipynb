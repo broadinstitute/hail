{
 "cells": [
  {
   "cell_type": "markdown",
   "metadata": {},
   "source": [
    "# Basic Analysis with Python: NumPy and Pandas"
   ]
  },
  {
   "cell_type": "markdown",
   "metadata": {},
   "source": [
    "## Numpy\n",
    "* A module for doing math in Python with versatile array objects.\n",
    "* Great for statistics and data science, and widely utilized in modules for such!"
   ]
  },
  {
   "cell_type": "markdown",
   "metadata": {},
   "source": [
    "### Let's make a table with Python's default tools.\n",
    "\n",
    "Say your engineer friend needs a reference for areas of circles."
   ]
  },
  {
   "cell_type": "code",
   "execution_count": null,
   "metadata": {},
   "outputs": [],
   "source": [
    "# First, we'll need our radii.\n",
    "\n",
    "radii = list(range(10)) # You can turn a range directly into a list.\n",
    "\n",
    "print(\"radii:\\n\" + str(radii))"
   ]
  },
  {
   "cell_type": "code",
   "execution_count": null,
   "metadata": {},
   "outputs": [],
   "source": [
    "# Now let's define how to change radii to areas.\n",
    "\n",
    "\n",
    "import math # \"math\" is a module that comes with Python by default.\n",
    "            # you can use packages with the command \"import.\"\n",
    "    \n",
    "from math import pi # if you only need part of a package, you can get it this way instead.\n",
    "\n",
    "def area(R):\n",
    "    return pi*(R**2)"
   ]
  },
  {
   "cell_type": "code",
   "execution_count": null,
   "metadata": {},
   "outputs": [],
   "source": [
    "# Exercise: How does \"return\" work?\n",
    "# Put an appropriate value in place of \"#\" in line 4 and run this box.\n",
    "\n",
    "x = area(#)\n",
    "\n",
    "print(x)"
   ]
  },
  {
   "cell_type": "code",
   "execution_count": null,
   "metadata": {
    "scrolled": true
   },
   "outputs": [],
   "source": [
    "# Now let's calculate the areas.\n",
    "\n",
    "areas = [] # an empty list to fill in\n",
    "\n",
    "for radius in radii:\n",
    "    areas += [area(radius)] # \"x += 1\" means \"x = x + 1.\" A convenient shorthand.\n",
    "                            # This operator works for concatenation, too!\n",
    "    \n",
    "print(\"areas:\\n\" + str(areas))"
   ]
  },
  {
   "cell_type": "markdown",
   "metadata": {},
   "source": [
    "### Can we operate directly on a list?\n",
    "\n",
    "That would be nice, and it would take fewer lines of code."
   ]
  },
  {
   "cell_type": "code",
   "execution_count": null,
   "metadata": {
    "scrolled": false
   },
   "outputs": [],
   "source": [
    "areas = pi*(radii**2) # (Spoiler: this will produce an error!)"
   ]
  },
  {
   "cell_type": "markdown",
   "metadata": {},
   "source": [
    "### Nope! Instead, let's try doing that with NumPy's ndarray object.\n",
    "\n",
    "Lists don't work like that. You need to iterate through their contents.\n",
    "\n",
    "NumPy's *arange* method is one way to call a powerful and flexible object it provides: the **ndarray** (like \"n-dimensional array\").\n"
   ]
  },
  {
   "cell_type": "code",
   "execution_count": null,
   "metadata": {},
   "outputs": [],
   "source": [
    "# Unlike the math module, NumPy doesn't come with Python by default.\n",
    "# You can install it with package managers such as \"pip:\"\n",
    "\n",
    "!pip install numpy"
   ]
  },
  {
   "cell_type": "code",
   "execution_count": null,
   "metadata": {},
   "outputs": [],
   "source": [
    "# with the package installed, we can import it:\n",
    "\n",
    "import numpy\n",
    "\n",
    "# and use it:\n",
    "\n",
    "radii = numpy.arange(10)\n",
    "areas = pi*(radii**2)\n",
    "\n",
    "print(\"areas:\\n\" + str(areas))"
   ]
  },
  {
   "cell_type": "code",
   "execution_count": null,
   "metadata": {},
   "outputs": [],
   "source": [
    "# numpy's \"arange\" method creates the module's useful and powerful object: the ndarray.\n",
    "type(radii)"
   ]
  },
  {
   "cell_type": "markdown",
   "metadata": {},
   "source": [
    "### *arange* takes similar parameters to *range*:"
   ]
  },
  {
   "cell_type": "code",
   "execution_count": null,
   "metadata": {},
   "outputs": [],
   "source": [
    "print(numpy.arange(10))\n",
    "\n",
    "print(numpy.arange(10, dtype='float'))\n",
    "\n",
    "print(numpy.arange(0, 1, 0.1)) # arguments: (start, stop, step-size)"
   ]
  },
  {
   "cell_type": "code",
   "execution_count": null,
   "metadata": {},
   "outputs": [],
   "source": [
    "# Exercise: can you replace \"#\" in line 3 with an argument to count from 0 to 5 by increments of 0.5?\n",
    "\n",
    "count_by_halves = numpy.arange(#)\n",
    "    \n",
    "print(count_by_halves)"
   ]
  },
  {
   "cell_type": "markdown",
   "metadata": {},
   "source": [
    "### Broadcasting: an ndarray property\n",
    "\n",
    "Mathematical operations on ndarrays do something NumPy calls **broadcasting.**\n",
    "\n",
    "For the circle-area example, broadcasting behaved like item-by-item multiplication of two ndarrays.\n",
    "\n",
    "For basic 1D ndarrays, broadcasting performs the operation element-by-element:"
   ]
  },
  {
   "cell_type": "code",
   "execution_count": null,
   "metadata": {},
   "outputs": [],
   "source": [
    "X = numpy.arange(1, 4, dtype='float')\n",
    "Y = numpy.arange(4, 7, dtype='float')\n",
    "\n",
    "print(\"1D Broadcasting:\\n\")\n",
    "print(\"X:\\t\" + str(X)) # \"\\t\" = tab\n",
    "print(\"Y:\\t\" + str(Y) + \"\\n\")\n",
    "\n",
    "print(\"X + Y:\\t\" + str(X + Y))\n",
    "print(\"X - Y:\\t\" + str(X - Y))\n",
    "print(\"X * Y:\\t\" + str(X * Y))\n",
    "print(\"X / Y:\\t\" + str(X / Y))"
   ]
  },
  {
   "cell_type": "markdown",
   "metadata": {},
   "source": [
    "### You can nest ndarrays."
   ]
  },
  {
   "cell_type": "code",
   "execution_count": null,
   "metadata": {},
   "outputs": [],
   "source": [
    "X = numpy.arange(10)\n",
    "Y = numpy.arange(10, 20)\n",
    "Z = numpy.vstack((X,Y)) # vstack is one of many methods to assemble multidimensional ndarrays.\n",
    "\n",
    "print(\"X:\\n\" + str(X))\n",
    "print(\"Y:\\n\" + str(Y))\n",
    "print(\"Z:\\n\" + str(Z) + \"\\n\")\n",
    "\n",
    "print(\"dimensions of Z:\", Z.ndim)\n",
    "print(\"shape of Z:\",      Z.shape)\n",
    "print(\"Z[0,4]: \" + str(Z[0,4]) + \"\\n\")\n",
    "\n",
    "print(\"That's how you get the n > 1 in 'ndarray!'\")"
   ]
  },
  {
   "cell_type": "markdown",
   "metadata": {},
   "source": [
    "### Other constructors:"
   ]
  },
  {
   "cell_type": "code",
   "execution_count": null,
   "metadata": {},
   "outputs": [],
   "source": [
    "X = numpy.ones(10)\n",
    "Y = numpy.zeros((10,10)) # (10,10) is a tuple. The inner parentheses are required here.\n",
    "Y_but_ones = numpy.ones_like(Y)\n",
    "\n",
    "print(\"numpy.ones(10):\\n\" + str(X) + \"\\n\")\n",
    "print(\"numpy.zeros((10,10)):\\n\" + str(Y) + \"\\n\")\n",
    "print(\"numpy.ones_like(above):\\n\" + str(Y_but_ones) + \"\\n\")"
   ]
  },
  {
   "cell_type": "markdown",
   "metadata": {},
   "source": [
    "### 2D Broadcasting:\n",
    "\n",
    "There are other constructors for ndarrays I haven't touched on. NumPy has great tutorials and documentation available for them! https://docs.scipy.org/doc/numpy-dev/user/index.html"
   ]
  },
  {
   "cell_type": "code",
   "execution_count": null,
   "metadata": {
    "scrolled": true
   },
   "outputs": [],
   "source": [
    "# Here, we define a 2D ndarray.\n",
    "\n",
    "X = numpy.ones((2,2))\n",
    "X[0,1] = 2\n",
    "X[1,0] = 3\n",
    "X[1,1] = 4\n",
    "\n",
    "print(\"X:\\n\" + str(X))"
   ]
  },
  {
   "cell_type": "code",
   "execution_count": null,
   "metadata": {},
   "outputs": [],
   "source": [
    "# And another: the 2x2 identity matrix.\n",
    "\n",
    "Y = numpy.identity(2)\n",
    "\n",
    "print(\"Y:\\n\" + str(Y))"
   ]
  },
  {
   "cell_type": "code",
   "execution_count": null,
   "metadata": {},
   "outputs": [],
   "source": [
    "print(\"2D Broadcasting:\\n\")\n",
    "\n",
    "# default broadcasting is still element-by-element.\n",
    "\n",
    "YX = Y * X\n",
    "\n",
    "print(\"Y * X (broadcasting):\\n\" + str(YX) + \"\\n\")"
   ]
  },
  {
   "cell_type": "code",
   "execution_count": null,
   "metadata": {},
   "outputs": [],
   "source": [
    "# Let's look at numpy's \"dot\" method:\n",
    "\n",
    "YdX = numpy.dot(Y,X)\n",
    "\n",
    "print(\"numpy.dot(Y,X):\\n\" + str(YdX) + \"\\n\")\n",
    "\n",
    "# For these 2D arrays, it performs matrix multiplication, but its behavior varies with other shapes.\n",
    "# Explore its general behavior with help(numpy.dot)"
   ]
  },
  {
   "cell_type": "markdown",
   "metadata": {},
   "source": [
    "### Loading data into an ndarray\n",
    "\n",
    "You will often want to construct ndarrays by importing data. One command to do this is **loadtxt**:"
   ]
  },
  {
   "cell_type": "code",
   "execution_count": null,
   "metadata": {},
   "outputs": [],
   "source": [
    "# load an ndarray from a file (located where this notebook is):\n",
    "\n",
    "X = numpy.loadtxt('some_numbers.txt', delimiter=',')\n",
    "print(X)"
   ]
  },
  {
   "cell_type": "markdown",
   "metadata": {},
   "source": [
    "### Moving on...\n",
    "\n",
    "Through broadcasting and many other operations available for the ndarray, it becomes straightforward with practice to do algebra on large and multidimensional arrays.\n",
    "\n",
    "You can then move on with these objects to other modules for analysis and plotting, such as SciPy, Matplotlib, and..."
   ]
  },
  {
   "cell_type": "markdown",
   "metadata": {},
   "source": [
    "## Pandas\n",
    "\n",
    "* provides \"fast, flexible, and expressive data structures designed to make working with “relational” or “labeled” data both easy and intuitive.\" (pandas.org)\n",
    "* a tool for **analysis** and **manipulation** of *any* text-based data."
   ]
  },
  {
   "cell_type": "code",
   "execution_count": null,
   "metadata": {},
   "outputs": [],
   "source": [
    "!pip install pandas"
   ]
  },
  {
   "cell_type": "code",
   "execution_count": null,
   "metadata": {
    "scrolled": true
   },
   "outputs": [],
   "source": [
    "# First, we import it. We can also use \"as\" to give it a nickname!\n",
    "import pandas as pd"
   ]
  },
  {
   "cell_type": "code",
   "execution_count": null,
   "metadata": {},
   "outputs": [],
   "source": [
    "# Now we can use read_csv to look at comma-delimited text and create Pandas's powerful object:\n",
    "# the DataFrame!\n",
    "\n",
    "stooges = pd.read_csv('stooges.csv')\n",
    "type(stooges)"
   ]
  },
  {
   "cell_type": "code",
   "execution_count": null,
   "metadata": {
    "scrolled": true
   },
   "outputs": [],
   "source": [
    "# You can best display a DataFrame without using print():\n",
    "stooges"
   ]
  },
  {
   "cell_type": "markdown",
   "metadata": {},
   "source": [
    "### Let's specify field names.\n",
    "\n",
    "By default, it assumes the first row was the header, as you see above.\n",
    "\n",
    "Field names weren't written in the file we read. Let's add them with the parameter *names*."
   ]
  },
  {
   "cell_type": "code",
   "execution_count": null,
   "metadata": {},
   "outputs": [],
   "source": [
    "stooges = pd.read_csv('stooges.csv',\n",
    "                      names = ['Stooge', 'First Appearance', 'Final Appearance'])\n",
    "\n",
    "stooges"
   ]
  },
  {
   "cell_type": "markdown",
   "metadata": {},
   "source": [
    "### Head and Tail\n",
    "\n",
    "For larger sets, we can peek at the stard or end to check on the data without using lots of memory:\n"
   ]
  },
  {
   "cell_type": "code",
   "execution_count": null,
   "metadata": {},
   "outputs": [],
   "source": [
    "stooges.head(2)"
   ]
  },
  {
   "cell_type": "code",
   "execution_count": null,
   "metadata": {},
   "outputs": [],
   "source": [
    "stooges.tail(1)"
   ]
  },
  {
   "cell_type": "markdown",
   "metadata": {},
   "source": [
    "### Filtering\n",
    "\n",
    "You can use booleans to filter for certain rows.\n"
   ]
  },
  {
   "cell_type": "code",
   "execution_count": null,
   "metadata": {},
   "outputs": [],
   "source": [
    "type(stooges['First Appearance'] == 1930)"
   ]
  },
  {
   "cell_type": "code",
   "execution_count": null,
   "metadata": {},
   "outputs": [],
   "source": [
    "# filter for the original three stooges:\n",
    "\n",
    "stooges[stooges['First Appearance'] == 1930]"
   ]
  },
  {
   "cell_type": "code",
   "execution_count": null,
   "metadata": {},
   "outputs": [],
   "source": [
    "# return the field \"Final Appearance\" where the field \"Stooge\" is \"Moe Howard\"\n",
    "\n",
    "stooges['Final Appearance'][stooges['Stooge'] == 'Moe Howard']"
   ]
  },
  {
   "cell_type": "markdown",
   "metadata": {},
   "source": [
    "### Quality Control\n",
    "\n",
    "The \"Final Appearance\" for is 2183 for Curly Joe and missing for Larry Fine. We'd rather not carry forward with incorrect or missing information for further analysis. Let's filter them out."
   ]
  },
  {
   "cell_type": "code",
   "execution_count": null,
   "metadata": {},
   "outputs": [],
   "source": [
    "stooges_fixed = stooges[stooges['Final Appearance'] < 2019]\n",
    "stooges_fixed"
   ]
  },
  {
   "cell_type": "markdown",
   "metadata": {},
   "source": [
    "### Saving DataFrames\n",
    "\n",
    "Now that we've performed quality control, let's save the file with **to_csv**."
   ]
  },
  {
   "cell_type": "code",
   "execution_count": null,
   "metadata": {},
   "outputs": [],
   "source": [
    "stooges_fixed.to_csv('stooges_fixed.csv', header=True, index=False)"
   ]
  },
  {
   "cell_type": "markdown",
   "metadata": {},
   "source": [
    "## Thank you!\n",
    "\n",
    "I only scratched the surface of what both of these modules are capable of.\n",
    "\n",
    "The following are both sources for this tutorial and recommended reading if you want to practice:\n",
    "* https://docs.scipy.org/doc/numpy/reference/\n",
    "* https://pandas.pydata.org/pandas-docs/stable/tutorials.html"
   ]
  }
 ],
 "metadata": {
  "kernelspec": {
   "display_name": "Python 3",
   "language": "python",
   "name": "python3"
  },
  "language_info": {
   "codemirror_mode": {
    "name": "ipython",
    "version": 3
   },
   "file_extension": ".py",
   "mimetype": "text/x-python",
   "name": "python",
   "nbconvert_exporter": "python",
   "pygments_lexer": "ipython3",
   "version": "3.6.7"
  }
 },
 "nbformat": 4,
 "nbformat_minor": 2
}
