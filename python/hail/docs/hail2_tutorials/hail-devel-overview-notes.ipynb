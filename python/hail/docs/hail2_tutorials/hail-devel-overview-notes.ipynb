{
 "cells": [
  {
   "cell_type": "markdown",
   "metadata": {},
   "source": [
    "<font color='red'>Updates to Overview Tutorial </font>"
   ]
  },
  {
   "cell_type": "markdown",
   "metadata": {},
   "source": [
    "## Overview\n",
    "\n",
    "This notebook is designed to provide a broad overview of Hail's functionality, with emphasis on the functionality to manipulate and query a genetic dataset. We walk through a genome-wide SNP association test, and demonstrate the need to control for confounding caused by population stratification.\n",
    "\n",
    "Each notebook starts the same: we import the `hail2` package and create a [HailContext](https://hail.is/hail/hail.HailContext.html). This object is the entry point for most Hail functionality.\n"
   ]
  },
  {
   "cell_type": "code",
   "execution_count": 1,
   "metadata": {},
   "outputs": [
    {
     "name": "stderr",
     "output_type": "stream",
     "text": [
      "Running on Apache Spark version 2.0.2\n",
      "SparkUI available at http://10.1.7.107:4040\n",
      "Welcome to\n",
      "     __  __     <>__\n",
      "    / /_/ /__  __/ /\n",
      "   / __  / _ `/ / /\n",
      "  /_/ /_/\\_,_/_/_/   version devel-69e62e8\n",
      "WARNING: This is an unstable development build.\n"
     ]
    }
   ],
   "source": [
    "from hail2 import *\n",
    "hc = HailContext()"
   ]
  },
  {
   "cell_type": "markdown",
   "metadata": {},
   "source": [
    "If the above cell ran without error, we're ready to go! \n",
    "\n",
    "Before using Hail, we import some standard Python libraries for use throughout the notebook."
   ]
  },
  {
   "cell_type": "code",
   "execution_count": 2,
   "metadata": {
    "collapsed": true
   },
   "outputs": [],
   "source": [
    "import numpy as np\n",
    "import pandas as pd\n",
    "import matplotlib.pyplot as plt\n",
    "import matplotlib.patches as mpatches\n",
    "from collections import Counter\n",
    "from math import log, isnan\n",
    "from pprint import pprint\n",
    "%matplotlib inline"
   ]
  },
  {
   "cell_type": "markdown",
   "metadata": {},
   "source": [
    " Installing and importing [seaborn](http://seaborn.pydata.org/installing.html) is optional; it just makes the plots prettier."
   ]
  },
  {
   "cell_type": "code",
   "execution_count": 3,
   "metadata": {
    "collapsed": true
   },
   "outputs": [],
   "source": [
    "# optional\n",
    "import seaborn"
   ]
  },
  {
   "cell_type": "markdown",
   "metadata": {},
   "source": [
    "## Check for tutorial data or download if necessary\n",
    "\n",
    "This cell downloads the necessary data from Google Storage if it isn't found in the current working directory."
   ]
  },
  {
   "cell_type": "code",
   "execution_count": 4,
   "metadata": {},
   "outputs": [
    {
     "name": "stdout",
     "output_type": "stream",
     "text": [
      "All files are present and accounted for!\n"
     ]
    }
   ],
   "source": [
    "import os\n",
    "if os.path.isdir('data/1kg.vds') and os.path.isfile('data/1kg_annotations.txt'):\n",
    "    print('All files are present and accounted for!')\n",
    "else:\n",
    "    import sys\n",
    "    sys.stderr.write('Downloading data (~16MB) from Google Storage...\\n')\n",
    "    import urllib\n",
    "    import tarfile\n",
    "    urllib.urlretrieve('https://storage.googleapis.com/hail-tutorial/hail-tutorial-data-v4.tar.gz',\n",
    "                       'hail-tutorial-data-v4.tar.gz')\n",
    "    sys.stderr.write('Download finished!\\n')\n",
    "    sys.stderr.write('Extracting...\\n')\n",
    "    tarfile.open('hail-tutorial-data-v4.tar.gz').extractall()\n",
    "    if not (os.path.isfile('data/1kg.vcf.bgz') and os.path.isfile('data/1kg_annotations.txt')):\n",
    "        raise RuntimeError('Something went wrong!')\n",
    "    \n",
    "    sys.stderr.write('Importing data...\\n')\n",
    "    (hc.import_vcf('data/1kg.vcf.bgz')\n",
    "     .write('data/1kg.vds'))\n",
    "    sys.stderr.write('Done!\\n')"
   ]
  },
  {
   "cell_type": "markdown",
   "metadata": {},
   "source": [
    "## Loading data from disk\n",
    "\n",
    "<del>Hail has its own internal data representation, called a Variant Dataset (VDS). This is both an on-disk file format and a [Python object](https://hail.is/hail/hail.VariantDataset.html). See the [overview](https://hail.is/hail/overview.html) for a complete story. Here, we read a VDS from disk.</del>\n",
    "\n",
    "Hail has its own internal data representation, called a MatrixTable. This is both an on-disk file format <font color='red'>(MatrixTable still uses .vds file format?)</font>and a [Python object](https://hail.is/docs/devel/api2/hail.api2.MatrixTable.html?highlight=annotate_cols#matrixtable). Here, we read a MatrixTable from disk.\n",
    "\n",
    "This dataset was created by downsampling a public 1000 genomes VCF to about 50 MB."
   ]
  },
  {
   "cell_type": "code",
   "execution_count": 5,
   "metadata": {
    "collapsed": true
   },
   "outputs": [],
   "source": [
    "ds = hc.read('data/1kg.vds')"
   ]
  },
  {
   "cell_type": "markdown",
   "metadata": {},
   "source": [
    "## Getting to know our data\n",
    "\n",
    "It's important to have easy ways to slice, dice, query, and summarize a dataset. Some of these methods are demonstrated below."
   ]
  },
  {
   "cell_type": "markdown",
   "metadata": {},
   "source": [
    "The [summarize](https://hail.is/hail/hail.VariantDataset.html#hail.VariantDataset.summarize) method is useful for providing a broad overview of the data contained in a dataset."
   ]
  },
  {
   "cell_type": "markdown",
   "metadata": {},
   "source": [
    "<font color='red'>Summarize method missing in hail2</font>"
   ]
  },
  {
   "cell_type": "code",
   "execution_count": 6,
   "metadata": {
    "collapsed": true
   },
   "outputs": [],
   "source": [
    "#vds.summarize().report()"
   ]
  },
  {
   "cell_type": "markdown",
   "metadata": {},
   "source": [
    "<del>The [query_variants](https://hail.is/hail/hail.VariantDataset.html#hail.VariantDataset.query_variants) method is the first time we'll see the [Hail expression language](https://hail.is/hail/exprlang.html). The expression language allows for a variety of incredibly expressive queries and computations, but is probably the most complex part of Hail. See the pair of tutorials on the expression language to learn more!</del>\n",
    "\n",
    "<del>Here, we can use `query_variants` to pull out 5 variants to see what they look like.</del>\n",
    "\n",
    "The [rows_table](https://hail.is/docs/devel/api2/hail.api2.MatrixTable.html?highlight=rows_table#hail.api2.MatrixTable.rows_table) method can be used to get a table with all the row fields in our MatrixTable. We can use `rows_table` along with [select](https://hail.is/docs/devel/api2/hail.api2.Table.html?highlight=select#hail.api2.Table.select) to pull out 5 variants. Use the `show` method to display the variants."
   ]
  },
  {
   "cell_type": "code",
   "execution_count": 7,
   "metadata": {},
   "outputs": [
    {
     "name": "stdout",
     "output_type": "stream",
     "text": [
      "+-----------------+\n",
      "| v               |\n",
      "+-----------------+\n",
      "| Variant(GRCh37) |\n",
      "+-----------------+\n",
      "| 1:904165:G:A    |\n",
      "| 1:909917:G:A    |\n",
      "| 1:986963:C:T    |\n",
      "| 1:1563691:T:G   |\n",
      "| 1:1707740:T:G   |\n",
      "+-----------------+\n",
      "showing top 5 rows\n",
      "\n"
     ]
    }
   ],
   "source": [
    "ds.rows_table().select('v').show(5)"
   ]
  },
  {
   "cell_type": "markdown",
   "metadata": {},
   "source": [
    "<del>There are often several ways to do something in Hail. Here are two ways to peek at the first few sample IDs:</del>\n",
    "\n",
    "We can peek at the first few sample IDs using `cols_table`."
   ]
  },
  {
   "cell_type": "code",
   "execution_count": 8,
   "metadata": {
    "scrolled": true
   },
   "outputs": [
    {
     "name": "stdout",
     "output_type": "stream",
     "text": [
      "+---------+\n",
      "| s       |\n",
      "+---------+\n",
      "| String  |\n",
      "+---------+\n",
      "| HG00096 |\n",
      "| HG00099 |\n",
      "| HG00105 |\n",
      "| HG00118 |\n",
      "| HG00129 |\n",
      "+---------+\n",
      "showing top 5 rows\n",
      "\n"
     ]
    }
   ],
   "source": [
    "ds.cols_table().select('s').show(5)"
   ]
  },
  {
   "cell_type": "markdown",
   "metadata": {},
   "source": [
    "<font color='red'>Matrix Table missing an attribute for sample_ids.</font>"
   ]
  },
  {
   "cell_type": "code",
   "execution_count": 9,
   "metadata": {
    "collapsed": true
   },
   "outputs": [],
   "source": [
    "# vds.sample_ids[:5]"
   ]
  },
  {
   "cell_type": "markdown",
   "metadata": {},
   "source": [
    "<del>There's a similar interface for looking at the genotypes in a dataset. We use [query_genotypes](https://hail.is/hail/hail.VariantDataset.html#hail.VariantDataset.query_genotypes) to look at the first few genotype calls.</del>\n",
    "\n",
    "\n",
    "To look at the first few genotype calls, we can use [entries_table](https://hail.is/docs/devel/api2/hail.api2.MatrixTable.html?highlight=entries_table#hail.api2.MatrixTable.entries_table) along with `select` and `take`. "
   ]
  },
  {
   "cell_type": "code",
   "execution_count": 10,
   "metadata": {
    "scrolled": false
   },
   "outputs": [
    {
     "data": {
      "text/plain": [
       "[Struct(DP=4, GT=0/0, AD=[4, 0], GQ=12, PL=[0, 12, 147]),\n",
       " Struct(DP=8, GT=0/0, AD=[8, 0], GQ=24, PL=[0, 24, 315]),\n",
       " Struct(DP=8, GT=0/0, AD=[8, 0], GQ=23, PL=[0, 23, 230]),\n",
       " Struct(DP=7, GT=0/0, AD=[7, 0], GQ=21, PL=[0, 21, 270]),\n",
       " Struct(DP=5, GT=0/0, AD=[5, 0], GQ=15, PL=[0, 15, 205])]"
      ]
     },
     "execution_count": 10,
     "metadata": {},
     "output_type": "execute_result"
    }
   ],
   "source": [
    "ds.entries_table().select('DP','GT','AD','GQ','PL').take(5)"
   ]
  },
  {
   "cell_type": "markdown",
   "metadata": {},
   "source": [
    "## Integrate sample annotations\n",
    "\n",
    "Hail treats <del>variant</del> <font color='red'>row</font> and <del>sample</del> <font color='red'>column</font> annotations as first-class citizens. Annotations are usually a critical part of any genetic study. <del>Sample</del> <font color='red'>Column</font> annotations are where you'll store information about sample phenotypes, ancestry, sex, and covariates. <del>Variant</del> <font color='red'> Row</font> annotations can be used to store information like gene membership and functional impact for use in QC or analysis.\n",
    "\n",
    "In this tutorial, we demonstrate how to take a text file and use it to annotate the samples in a <del>VDS</del> <font color='red'>MatrixTable</font>. "
   ]
  },
  {
   "cell_type": "markdown",
   "metadata": {},
   "source": [
    "iPython supports various cell \"magics\". The `%%sh` magic is one which interprets the cell with bash, rather than Python. We can use this to look at the first few lines of our annotation file. This file contains the sample ID, the population and \"super-population\" designations, the sample sex, and two simulated phenotypes (one binary, one discrete)."
   ]
  },
  {
   "cell_type": "code",
   "execution_count": 11,
   "metadata": {},
   "outputs": [
    {
     "name": "stdout",
     "output_type": "stream",
     "text": [
      "Sample   Population  SuperPopulation  isFemale  PurpleHair  CaffeineConsumption\n",
      "HG00096  GBR         EUR              False     False       77.0\n",
      "HG00097  GBR         EUR              True      True        67.0\n",
      "HG00098  GBR         EUR              False     False       83.0\n",
      "HG00099  GBR         EUR              True      False       64.0\n",
      "HG00100  GBR         EUR              True      False       59.0\n",
      "HG00101  GBR         EUR              False     True        77.0\n",
      "HG00102  GBR         EUR              True      True        67.0\n",
      "HG00103  GBR         EUR              False     True        74.0\n",
      "HG00104  GBR         EUR              True      False       66.0\n"
     ]
    }
   ],
   "source": [
    "%%sh\n",
    "head data/1kg_annotations.txt | column -t "
   ]
  },
  {
   "cell_type": "markdown",
   "metadata": {},
   "source": [
    "This file can be imported into Hail with [HailContext.import_table](https://hail.is/hail/hail.HailContext.html#hail.HailContext.import_table). This method produces a <del>[KeyTable](https://hail.is/hail/hail.KeyTable.html#hail.KeyTable)</del> [Table](https://hail.is/docs/devel/api2/hail.api2.Table.html#hail.api2.Table) object. Think of this as a Pandas or R dataframe that isn't limited by the memory on your machine -- behind the scenes, it's distributed with Spark."
   ]
  },
  {
   "cell_type": "code",
   "execution_count": 12,
   "metadata": {},
   "outputs": [
    {
     "name": "stderr",
     "output_type": "stream",
     "text": [
      "2018-01-17 16:24:12 Hail: INFO: Reading table to impute column types\n",
      "2018-01-17 16:24:13 Hail: INFO: Finished type imputation\n",
      "  Loading column `Sample' as type String (imputed)\n",
      "  Loading column `Population' as type String (imputed)\n",
      "  Loading column `SuperPopulation' as type String (imputed)\n",
      "  Loading column `isFemale' as type Boolean (imputed)\n",
      "  Loading column `PurpleHair' as type Boolean (imputed)\n",
      "  Loading column `CaffeineConsumption' as type Float64 (imputed)\n"
     ]
    }
   ],
   "source": [
    "table = hc.import_table('data/1kg_annotations.txt', impute=True)\\\n",
    "    .key_by('Sample')"
   ]
  },
  {
   "cell_type": "markdown",
   "metadata": {},
   "source": [
    "A good way to peek at the structure of a <del>`KeyTable`</del> `Table` is to look at its `schema`. \n",
    "\n"
   ]
  },
  {
   "cell_type": "code",
   "execution_count": 13,
   "metadata": {
    "scrolled": true
   },
   "outputs": [
    {
     "name": "stdout",
     "output_type": "stream",
     "text": [
      "Struct{Sample:String,Population:String,SuperPopulation:String,isFemale:Boolean,PurpleHair:Boolean,CaffeineConsumption:Float64}\n"
     ]
    }
   ],
   "source": [
    "print(table.schema)"
   ]
  },
  {
   "cell_type": "markdown",
   "metadata": {},
   "source": [
    "The Python `pprint` method makes illegible printouts pretty:"
   ]
  },
  {
   "cell_type": "code",
   "execution_count": 14,
   "metadata": {},
   "outputs": [
    {
     "name": "stdout",
     "output_type": "stream",
     "text": [
      "Struct{\n",
      "     Sample: String,\n",
      "     Population: String,\n",
      "     SuperPopulation: String,\n",
      "     isFemale: Boolean,\n",
      "     PurpleHair: Boolean,\n",
      "     CaffeineConsumption: Float64\n",
      " }\n"
     ]
    }
   ],
   "source": [
    "pprint(table.schema)"
   ]
  },
  {
   "cell_type": "markdown",
   "metadata": {},
   "source": [
    "Although we used the `%%sh` magic to look at the first lines of the table, there's a better way. <del>We can convert the table to a [Spark DataFrame](https://spark.apache.org/docs/latest/sql-programming-guide.html) and use its `.show()` method:</del> We can use the `show` method:"
   ]
  },
  {
   "cell_type": "code",
   "execution_count": 15,
   "metadata": {},
   "outputs": [
    {
     "name": "stdout",
     "output_type": "stream",
     "text": [
      "+---------+------------+-----------------+----------+------------+---------------------+\n",
      "| Sample  | Population | SuperPopulation | isFemale | PurpleHair | CaffeineConsumption |\n",
      "+---------+------------+-----------------+----------+------------+---------------------+\n",
      "| String  | String     | String          | Boolean  | Boolean    |             Float64 |\n",
      "+---------+------------+-----------------+----------+------------+---------------------+\n",
      "| HG00096 | GBR        | EUR             | false    | false      |         7.70000e+01 |\n",
      "| HG00097 | GBR        | EUR             | true     | true       |         6.70000e+01 |\n",
      "| HG00098 | GBR        | EUR             | false    | false      |         8.30000e+01 |\n",
      "| HG00099 | GBR        | EUR             | true     | false      |         6.40000e+01 |\n",
      "| HG00100 | GBR        | EUR             | true     | false      |         5.90000e+01 |\n",
      "| HG00101 | GBR        | EUR             | false    | true       |         7.70000e+01 |\n",
      "| HG00102 | GBR        | EUR             | true     | true       |         6.70000e+01 |\n",
      "| HG00103 | GBR        | EUR             | false    | true       |         7.40000e+01 |\n",
      "| HG00104 | GBR        | EUR             | true     | false      |         6.60000e+01 |\n",
      "| HG00105 | GBR        | EUR             | false    | false      |         7.70000e+01 |\n",
      "+---------+------------+-----------------+----------+------------+---------------------+\n",
      "showing top 10 rows\n",
      "\n"
     ]
    }
   ],
   "source": [
    "table.show(10)"
   ]
  },
  {
   "cell_type": "markdown",
   "metadata": {},
   "source": [
    "Now we'll use this table to add sample annotations to our dataset. First, we'll print the schema of the sample annotations already there:"
   ]
  },
  {
   "cell_type": "code",
   "execution_count": 16,
   "metadata": {
    "scrolled": true
   },
   "outputs": [
    {
     "name": "stdout",
     "output_type": "stream",
     "text": [
      "Empty\n"
     ]
    }
   ],
   "source": [
    "pprint(ds.col_schema)"
   ]
  },
  {
   "cell_type": "markdown",
   "metadata": {},
   "source": [
    "<del>We use the [annotate_samples_table](https://hail.is/hail/hail.VariantDataset.html#hail.VariantDataset.annotate_samples_table) method to join the table with the VDS.</del>\n",
    "\n",
    "We use the [annotate_cols](https://hail.is/docs/devel/api2/hail.api2.MatrixTable.html?highlight=annotate_cols#hail.api2.MatrixTable.annotate_cols) method to join the table with the MatrixTable.\n",
    "\n",
    "<font color='red'>PR needed for annotate_cols(**table[ds.s]) to work.</font>"
   ]
  },
  {
   "cell_type": "code",
   "execution_count": 17,
   "metadata": {},
   "outputs": [
    {
     "name": "stderr",
     "output_type": "stream",
     "text": [
      "2018-01-17 16:24:13 Hail: WARN: Analysis warning: low complexity: expected an expression indexed by ['column', 'row'], found indices ['column']. Results will be broadcast along ['row'].\n"
     ]
    }
   ],
   "source": [
    "ds = ds.annotate_cols(dummy = table[ds.s])\n",
    "ds = ds.select_cols(*ds.dummy)"
   ]
  },
  {
   "cell_type": "code",
   "execution_count": 18,
   "metadata": {
    "scrolled": true
   },
   "outputs": [
    {
     "name": "stdout",
     "output_type": "stream",
     "text": [
      "Struct{\n",
      "     Population: String,\n",
      "     SuperPopulation: String,\n",
      "     isFemale: Boolean,\n",
      "     PurpleHair: Boolean,\n",
      "     CaffeineConsumption: Float64\n",
      " }\n"
     ]
    }
   ],
   "source": [
    "pprint(ds.col_schema)"
   ]
  },
  {
   "cell_type": "markdown",
   "metadata": {},
   "source": [
    "## Query functions and the Hail Expression Language\n",
    "\n",
    "We start by looking at some statistics of the information in our table. <del>The [query](https://hail.is/hail/hail.KeyTable.html#hail.KeyTable.query) method uses the expression language to aggregate over the rows of the table.</del> The [aggregate]() method can be used to aggregate over rows of the table."
   ]
  },
  {
   "cell_type": "markdown",
   "metadata": {},
   "source": [
    "`counter` is an aggregation function that counts the number of occurrences of each unique element. We can use this to pull out the population distribution."
   ]
  },
  {
   "cell_type": "code",
   "execution_count": 19,
   "metadata": {},
   "outputs": [
    {
     "name": "stdout",
     "output_type": "stream",
     "text": [
      "{'pop_count': {u'AFR': 1018L,\n",
      "               u'AMR': 535L,\n",
      "               u'EAS': 617L,\n",
      "               u'EUR': 669L,\n",
      "               u'SAS': 661L}}\n"
     ]
    }
   ],
   "source": [
    "pprint(table.aggregate(pop_count = agg.counter(table.SuperPopulation)))"
   ]
  },
  {
   "cell_type": "markdown",
   "metadata": {},
   "source": [
    "`stats` is an aggregation function that produces some useful statistics about numeric collections. We can use this to see the distribution of the CaffeineConsumption phenotype."
   ]
  },
  {
   "cell_type": "code",
   "execution_count": 20,
   "metadata": {},
   "outputs": [
    {
     "name": "stdout",
     "output_type": "stream",
     "text": [
      "{'caffeine_stats': {u'max': 83.0,\n",
      "                    u'mean': 67.07599999999991,\n",
      "                    u'min': 53.0,\n",
      "                    u'nNotMissing': 3500L,\n",
      "                    u'stdev': 4.574831269331922,\n",
      "                    u'sum': 234765.99999999968}}\n"
     ]
    }
   ],
   "source": [
    "pprint(table.aggregate(caffeine_stats = agg.stats(table.CaffeineConsumption)))"
   ]
  },
  {
   "cell_type": "markdown",
   "metadata": {},
   "source": [
    "However, these metrics aren't perfectly representative of the samples in our dataset. Here's why:"
   ]
  },
  {
   "cell_type": "code",
   "execution_count": 21,
   "metadata": {},
   "outputs": [
    {
     "data": {
      "text/plain": [
       "3500L"
      ]
     },
     "execution_count": 21,
     "metadata": {},
     "output_type": "execute_result"
    }
   ],
   "source": [
    "table.count()"
   ]
  },
  {
   "cell_type": "code",
   "execution_count": 22,
   "metadata": {},
   "outputs": [
    {
     "data": {
      "text/plain": [
       "284"
      ]
     },
     "execution_count": 22,
     "metadata": {},
     "output_type": "execute_result"
    }
   ],
   "source": [
    "ds.count_cols()"
   ]
  },
  {
   "cell_type": "markdown",
   "metadata": {},
   "source": [
    "Since there are fewer samples in our dataset than in the full thousand genomes cohort, we need to look at annotations on the dataset. <del>We can do this with [query_samples](https://hail.is/hail/hail.VariantDataset.html#hail.VariantDataset.query_samples).</del> We can use [aggregate_cols]() to get the metrics for only the samples in our dataset."
   ]
  },
  {
   "cell_type": "code",
   "execution_count": 23,
   "metadata": {},
   "outputs": [
    {
     "data": {
      "text/plain": [
       "Struct(pop_count={u'SAS': 55L, u'EAS': 72L, u'AMR': 34L, u'AFR': 76L, u'EUR': 47L})"
      ]
     },
     "execution_count": 23,
     "metadata": {},
     "output_type": "execute_result"
    }
   ],
   "source": [
    "ds.aggregate_cols(pop_count = agg.counter(ds.SuperPopulation))"
   ]
  },
  {
   "cell_type": "code",
   "execution_count": 24,
   "metadata": {
    "scrolled": true
   },
   "outputs": [
    {
     "name": "stdout",
     "output_type": "stream",
     "text": [
      "{'caffeine_stats': {u'max': 80.0,\n",
      "                    u'mean': 66.80281690140849,\n",
      "                    u'min': 57.0,\n",
      "                    u'nNotMissing': 284L,\n",
      "                    u'stdev': 4.550560152208655,\n",
      "                    u'sum': 18972.00000000001}}\n"
     ]
    }
   ],
   "source": [
    "pprint(ds.aggregate_cols(caffeine_stats = agg.stats(ds.CaffeineConsumption)))"
   ]
  },
  {
   "cell_type": "markdown",
   "metadata": {},
   "source": [
    "The functionality demonstrated in the last few cells isn't anything especially new: it's certainly not difficult to ask these questions with Pandas or R dataframes, or even Unix tools like `awk`. But Hail can use the same interfaces and query language to analyze collections that are much larger, like the set of variants. \n",
    "\n",
    "Here we calculate the counts of each of the 12 possible unique SNPs (4 choices for the reference base * 3 choices for the alternate base). To do this, we need to map the variants to their alternate allele, filter to SNPs, and count by unique ref/alt pair:"
   ]
  },
  {
   "cell_type": "code",
   "execution_count": 25,
   "metadata": {},
   "outputs": [
    {
     "name": "stderr",
     "output_type": "stream",
     "text": [
      "2018-01-17 16:24:14 Hail: WARN: converting OrderedRVD => OrderedRDD\n"
     ]
    },
    {
     "data": {
      "text/plain": [
       "[(AltAllele(ref='C', alt='T'), 2436L),\n",
       " (AltAllele(ref='G', alt='A'), 2387L),\n",
       " (AltAllele(ref='A', alt='G'), 1944L),\n",
       " (AltAllele(ref='T', alt='C'), 1879L),\n",
       " (AltAllele(ref='C', alt='A'), 496L),\n",
       " (AltAllele(ref='G', alt='T'), 480L),\n",
       " (AltAllele(ref='T', alt='G'), 468L),\n",
       " (AltAllele(ref='A', alt='C'), 454L),\n",
       " (AltAllele(ref='C', alt='G'), 150L),\n",
       " (AltAllele(ref='G', alt='C'), 112L),\n",
       " (AltAllele(ref='T', alt='A'), 79L),\n",
       " (AltAllele(ref='A', alt='T'), 76L)]"
      ]
     },
     "execution_count": 25,
     "metadata": {},
     "output_type": "execute_result"
    }
   ],
   "source": [
    "snp_counts = ds.aggregate_rows(snp_counts = agg.counter(ds.v.alt_allele()))\n",
    "\n",
    "from collections import Counter\n",
    "counts = Counter(snp_counts.snp_counts)\n",
    "counts.most_common()"
   ]
  },
  {
   "cell_type": "markdown",
   "metadata": {},
   "source": [
    "It's nice to see that we can actually uncover something biological from this small dataset: we see that these frequencies come in pairs. C/T and G/A are actually the same mutation, just viewed from from opposite strands. Likewise, T/A and A/T are the same mutation on opposite strands. There's a 30x difference between the frequency of C/T and A/T SNPs. Why?"
   ]
  },
  {
   "cell_type": "markdown",
   "metadata": {},
   "source": [
    "The same Python, R, and Unix tools could do this work as well, but we're starting to hit a wall - the latest [gnomAD release](http://gnomad.broadinstitute.org/) publishes about 250 million variants, and that won't fit in memory on a single computer.\n",
    "\n",
    "What about genotypes? Hail can query the collection of all genotypes in the dataset, and this is getting large even for our tiny dataset. Our 1,000 samples and 10,000 variants produce 10 million unique genotypes. The gnomAD dataset has about **5 trillion** unique genotypes.\n",
    "\n",
    "Here we will use the `hist` aggregator to produce and plot a histogram of DP values for genotypes in our thousand genomes dataset."
   ]
  },
  {
   "cell_type": "code",
   "execution_count": 26,
   "metadata": {},
   "outputs": [
    {
     "data": {
      "image/png": "[encoded data removed]",
      "text/plain": [
       "<matplotlib.figure.Figure at 0x10ff5d390>"
      ]
     },
     "metadata": {},
     "output_type": "display_data"
    }
   ],
   "source": [
    "dp_hist = ds.aggregate_entries(dp_hist = agg.hist(ds.DP, 0, 30, 30)).dp_hist\n",
    "plt.xlim(0, 31)\n",
    "plt.bar(dp_hist.binEdges[1:], dp_hist.binFrequencies)\n",
    "plt.show()"
   ]
  },
  {
   "cell_type": "markdown",
   "metadata": {},
   "source": [
    "## Quality Control\n",
    "\n",
    "QC is where analysts spend most of their time with sequencing datasets. QC is an iterative process, and is different for every project: there is no \"push-button\" solution for QC. Each time the Broad collects a new group of samples, it finds new batch effects. However, by practicing open science and discussing the QC process and decisions with others, we can establish a set of best practices as a community."
   ]
  },
  {
   "cell_type": "markdown",
   "metadata": {},
   "source": [
    "QC is entirely based on the ability to understand the properties of a dataset. Hail attempts to make this easier by providing the [sample_qc](https://hail.is/hail/hail.VariantDataset.html#hail.VariantDataset.sample_qc) method, which produces a set of useful metrics as sample annotations."
   ]
  },
  {
   "cell_type": "code",
   "execution_count": 27,
   "metadata": {},
   "outputs": [
    {
     "name": "stdout",
     "output_type": "stream",
     "text": [
      "Struct{\n",
      "     Population: String,\n",
      "     SuperPopulation: String,\n",
      "     isFemale: Boolean,\n",
      "     PurpleHair: Boolean,\n",
      "     CaffeineConsumption: Float64\n",
      " }\n"
     ]
    }
   ],
   "source": [
    "pprint(ds.col_schema)"
   ]
  },
  {
   "cell_type": "code",
   "execution_count": 28,
   "metadata": {},
   "outputs": [
    {
     "name": "stderr",
     "output_type": "stream",
     "text": [
      "2018-01-17 16:24:42 Hail: WARN: converting OrderedRVD => OrderedRDD\n"
     ]
    }
   ],
   "source": [
    "ds = methods.sample_qc(ds)"
   ]
  },
  {
   "cell_type": "code",
   "execution_count": 29,
   "metadata": {},
   "outputs": [
    {
     "name": "stdout",
     "output_type": "stream",
     "text": [
      "Struct{\n",
      "     Population: String,\n",
      "     SuperPopulation: String,\n",
      "     isFemale: Boolean,\n",
      "     PurpleHair: Boolean,\n",
      "     CaffeineConsumption: Float64,\n",
      "     sample_qc: Struct{\n",
      "         callRate: Float64,\n",
      "         nCalled: Int64,\n",
      "         nNotCalled: Int64,\n",
      "         nHomRef: Int64,\n",
      "         nHet: Int64,\n",
      "         nHomVar: Int64,\n",
      "         nSNP: Int64,\n",
      "         nInsertion: Int64,\n",
      "         nDeletion: Int64,\n",
      "         nSingleton: Int64,\n",
      "         nTransition: Int64,\n",
      "         nTransversion: Int64,\n",
      "         nStar: Int64,\n",
      "         dpMean: Float64,\n",
      "         dpStDev: Float64,\n",
      "         gqMean: Float64,\n",
      "         gqStDev: Float64,\n",
      "         nNonRef: Int64,\n",
      "         rTiTv: Float64,\n",
      "         rHetHomVar: Float64,\n",
      "         rInsertionDeletion: Float64\n",
      "     }\n",
      " }\n"
     ]
    }
   ],
   "source": [
    "pprint(ds.col_schema)"
   ]
  },
  {
   "cell_type": "markdown",
   "metadata": {},
   "source": [
    "Interoperability is a big part of Hail. <del>We can pull out these new metrics to a Pandas dataframe with one line of code:</del>\n",
    "\n",
    "To pull out these new metrics, we need to convert to a Pandas DataFrame, which can be done by first converting to a Hail1 KeyTable via the `to_hail` method, and then using the the `to_pandas` method.\n",
    "\n",
    "<font color='red'> Missing conversion to Pandas DataFrame in Hail2</font>"
   ]
  },
  {
   "cell_type": "code",
   "execution_count": 30,
   "metadata": {
    "collapsed": true
   },
   "outputs": [],
   "source": [
    "df = ds.to_hail1().samples_table().to_pandas()"
   ]
  },
  {
   "cell_type": "code",
   "execution_count": 31,
   "metadata": {},
   "outputs": [
    {
     "data": {
      "text/html": [
       "<div>\n",
       "<style>\n",
       "    .dataframe thead tr:only-child th {\n",
       "        text-align: right;\n",
       "    }\n",
       "\n",
       "    .dataframe thead th {\n",
       "        text-align: left;\n",
       "    }\n",
       "\n",
       "    .dataframe tbody tr th {\n",
       "        vertical-align: top;\n",
       "    }\n",
       "</style>\n",
       "<table border=\"1\" class=\"dataframe\">\n",
       "  <thead>\n",
       "    <tr style=\"text-align: right;\">\n",
       "      <th></th>\n",
       "      <th>s</th>\n",
       "      <th>sa.Population</th>\n",
       "      <th>sa.SuperPopulation</th>\n",
       "      <th>sa.isFemale</th>\n",
       "      <th>sa.PurpleHair</th>\n",
       "      <th>sa.CaffeineConsumption</th>\n",
       "      <th>sa.sample_qc.callRate</th>\n",
       "      <th>sa.sample_qc.nCalled</th>\n",
       "      <th>sa.sample_qc.nNotCalled</th>\n",
       "      <th>sa.sample_qc.nHomRef</th>\n",
       "      <th>...</th>\n",
       "      <th>sa.sample_qc.nTransversion</th>\n",
       "      <th>sa.sample_qc.nStar</th>\n",
       "      <th>sa.sample_qc.dpMean</th>\n",
       "      <th>sa.sample_qc.dpStDev</th>\n",
       "      <th>sa.sample_qc.gqMean</th>\n",
       "      <th>sa.sample_qc.gqStDev</th>\n",
       "      <th>sa.sample_qc.nNonRef</th>\n",
       "      <th>sa.sample_qc.rTiTv</th>\n",
       "      <th>sa.sample_qc.rHetHomVar</th>\n",
       "      <th>sa.sample_qc.rInsertionDeletion</th>\n",
       "    </tr>\n",
       "  </thead>\n",
       "  <tbody>\n",
       "    <tr>\n",
       "      <th>0</th>\n",
       "      <td>HG00096</td>\n",
       "      <td>GBR</td>\n",
       "      <td>EUR</td>\n",
       "      <td>False</td>\n",
       "      <td>False</td>\n",
       "      <td>77.0</td>\n",
       "      <td>0.979017</td>\n",
       "      <td>10731</td>\n",
       "      <td>230</td>\n",
       "      <td>6321</td>\n",
       "      <td>...</td>\n",
       "      <td>1190</td>\n",
       "      <td>0</td>\n",
       "      <td>4.566828</td>\n",
       "      <td>2.343927</td>\n",
       "      <td>22.506570</td>\n",
       "      <td>22.531111</td>\n",
       "      <td>4410</td>\n",
       "      <td>4.397479</td>\n",
       "      <td>1.190760</td>\n",
       "      <td>None</td>\n",
       "    </tr>\n",
       "    <tr>\n",
       "      <th>1</th>\n",
       "      <td>HG00099</td>\n",
       "      <td>GBR</td>\n",
       "      <td>EUR</td>\n",
       "      <td>True</td>\n",
       "      <td>False</td>\n",
       "      <td>64.0</td>\n",
       "      <td>0.988687</td>\n",
       "      <td>10837</td>\n",
       "      <td>124</td>\n",
       "      <td>6113</td>\n",
       "      <td>...</td>\n",
       "      <td>1229</td>\n",
       "      <td>0</td>\n",
       "      <td>8.240004</td>\n",
       "      <td>3.720313</td>\n",
       "      <td>37.523761</td>\n",
       "      <td>28.130359</td>\n",
       "      <td>4724</td>\n",
       "      <td>4.375102</td>\n",
       "      <td>1.510096</td>\n",
       "      <td>None</td>\n",
       "    </tr>\n",
       "    <tr>\n",
       "      <th>2</th>\n",
       "      <td>HG00105</td>\n",
       "      <td>GBR</td>\n",
       "      <td>EUR</td>\n",
       "      <td>False</td>\n",
       "      <td>False</td>\n",
       "      <td>77.0</td>\n",
       "      <td>0.995165</td>\n",
       "      <td>10908</td>\n",
       "      <td>53</td>\n",
       "      <td>6274</td>\n",
       "      <td>...</td>\n",
       "      <td>1257</td>\n",
       "      <td>0</td>\n",
       "      <td>6.711089</td>\n",
       "      <td>2.945279</td>\n",
       "      <td>31.153007</td>\n",
       "      <td>25.757756</td>\n",
       "      <td>4634</td>\n",
       "      <td>4.163087</td>\n",
       "      <td>1.496767</td>\n",
       "      <td>None</td>\n",
       "    </tr>\n",
       "    <tr>\n",
       "      <th>3</th>\n",
       "      <td>HG00118</td>\n",
       "      <td>GBR</td>\n",
       "      <td>EUR</td>\n",
       "      <td>True</td>\n",
       "      <td>False</td>\n",
       "      <td>64.0</td>\n",
       "      <td>0.999909</td>\n",
       "      <td>10960</td>\n",
       "      <td>1</td>\n",
       "      <td>6153</td>\n",
       "      <td>...</td>\n",
       "      <td>1298</td>\n",
       "      <td>0</td>\n",
       "      <td>11.459672</td>\n",
       "      <td>3.779678</td>\n",
       "      <td>48.738230</td>\n",
       "      <td>27.944320</td>\n",
       "      <td>4807</td>\n",
       "      <td>4.101695</td>\n",
       "      <td>1.648485</td>\n",
       "      <td>None</td>\n",
       "    </tr>\n",
       "    <tr>\n",
       "      <th>4</th>\n",
       "      <td>HG00129</td>\n",
       "      <td>GBR</td>\n",
       "      <td>EUR</td>\n",
       "      <td>False</td>\n",
       "      <td>False</td>\n",
       "      <td>71.0</td>\n",
       "      <td>0.985220</td>\n",
       "      <td>10799</td>\n",
       "      <td>162</td>\n",
       "      <td>6105</td>\n",
       "      <td>...</td>\n",
       "      <td>1208</td>\n",
       "      <td>0</td>\n",
       "      <td>7.425897</td>\n",
       "      <td>3.443599</td>\n",
       "      <td>35.057413</td>\n",
       "      <td>27.784722</td>\n",
       "      <td>4694</td>\n",
       "      <td>4.432119</td>\n",
       "      <td>1.512848</td>\n",
       "      <td>None</td>\n",
       "    </tr>\n",
       "  </tbody>\n",
       "</table>\n",
       "<p>5 rows × 27 columns</p>\n",
       "</div>"
      ],
      "text/plain": [
       "         s sa.Population sa.SuperPopulation  sa.isFemale  sa.PurpleHair  \\\n",
       "0  HG00096           GBR                EUR        False          False   \n",
       "1  HG00099           GBR                EUR         True          False   \n",
       "2  HG00105           GBR                EUR        False          False   \n",
       "3  HG00118           GBR                EUR         True          False   \n",
       "4  HG00129           GBR                EUR        False          False   \n",
       "\n",
       "   sa.CaffeineConsumption  sa.sample_qc.callRate  sa.sample_qc.nCalled  \\\n",
       "0                    77.0               0.979017                 10731   \n",
       "1                    64.0               0.988687                 10837   \n",
       "2                    77.0               0.995165                 10908   \n",
       "3                    64.0               0.999909                 10960   \n",
       "4                    71.0               0.985220                 10799   \n",
       "\n",
       "   sa.sample_qc.nNotCalled  sa.sample_qc.nHomRef  \\\n",
       "0                      230                  6321   \n",
       "1                      124                  6113   \n",
       "2                       53                  6274   \n",
       "3                        1                  6153   \n",
       "4                      162                  6105   \n",
       "\n",
       "                ...                 sa.sample_qc.nTransversion  \\\n",
       "0               ...                                       1190   \n",
       "1               ...                                       1229   \n",
       "2               ...                                       1257   \n",
       "3               ...                                       1298   \n",
       "4               ...                                       1208   \n",
       "\n",
       "   sa.sample_qc.nStar  sa.sample_qc.dpMean  sa.sample_qc.dpStDev  \\\n",
       "0                   0             4.566828              2.343927   \n",
       "1                   0             8.240004              3.720313   \n",
       "2                   0             6.711089              2.945279   \n",
       "3                   0            11.459672              3.779678   \n",
       "4                   0             7.425897              3.443599   \n",
       "\n",
       "   sa.sample_qc.gqMean  sa.sample_qc.gqStDev  sa.sample_qc.nNonRef  \\\n",
       "0            22.506570             22.531111                  4410   \n",
       "1            37.523761             28.130359                  4724   \n",
       "2            31.153007             25.757756                  4634   \n",
       "3            48.738230             27.944320                  4807   \n",
       "4            35.057413             27.784722                  4694   \n",
       "\n",
       "   sa.sample_qc.rTiTv  sa.sample_qc.rHetHomVar  \\\n",
       "0            4.397479                 1.190760   \n",
       "1            4.375102                 1.510096   \n",
       "2            4.163087                 1.496767   \n",
       "3            4.101695                 1.648485   \n",
       "4            4.432119                 1.512848   \n",
       "\n",
       "   sa.sample_qc.rInsertionDeletion  \n",
       "0                             None  \n",
       "1                             None  \n",
       "2                             None  \n",
       "3                             None  \n",
       "4                             None  \n",
       "\n",
       "[5 rows x 27 columns]"
      ]
     },
     "execution_count": 31,
     "metadata": {},
     "output_type": "execute_result"
    }
   ],
   "source": [
    "df.head()"
   ]
  },
  {
   "cell_type": "markdown",
   "metadata": {},
   "source": [
    "Plotting the QC metrics is a good place to start."
   ]
  },
  {
   "cell_type": "code",
   "execution_count": 35,
   "metadata": {},
   "outputs": [
    {
     "data": {
      "image/png": "[encoded data removed]",
      "text/plain": [
       "<matplotlib.figure.Figure at 0x113f81890>"
      ]
     },
     "metadata": {},
     "output_type": "display_data"
    }
   ],
   "source": [
    "plt.clf()\n",
    "plt.subplot(1, 2, 1)\n",
    "plt.hist(df[\"sa.sample_qc.callRate\"], bins=np.arange(.75, 1.01, .01))\n",
    "plt.xlabel(\"Call Rate\")\n",
    "plt.ylabel(\"Frequency\")\n",
    "plt.xlim(.75, 1)\n",
    "\n",
    "plt.subplot(1, 2, 2)\n",
    "plt.hist(df[\"sa.sample_qc.gqMean\"], bins = np.arange(0, 105, 5))\n",
    "plt.xlabel(\"Mean Sample GQ\")\n",
    "plt.ylabel(\"Frequency\")\n",
    "plt.xlim(0, 105)\n",
    "\n",
    "plt.tight_layout()\n",
    "plt.show()"
   ]
  },
  {
   "cell_type": "markdown",
   "metadata": {},
   "source": [
    "Often, these metrics are correlated."
   ]
  },
  {
   "cell_type": "code",
   "execution_count": 38,
   "metadata": {},
   "outputs": [
    {
     "data": {
      "image/png": "[encoded data removed]",
      "text/plain": [
       "<matplotlib.figure.Figure at 0x10ff44890>"
      ]
     },
     "metadata": {},
     "output_type": "display_data"
    }
   ],
   "source": [
    "plt.scatter(df[\"sa.sample_qc.dpMean\"], df[\"sa.sample_qc.callRate\"],\n",
    "            alpha=0.1)\n",
    "plt.xlabel('Mean DP')\n",
    "plt.ylabel('Call Rate')\n",
    "plt.xlim(0, 20)\n",
    "plt.show()"
   ]
  },
  {
   "cell_type": "markdown",
   "metadata": {},
   "source": [
    "Removing outliers from the dataset will generally improve association results. We can draw lines on the above plot to indicate outlier cuts. We'll want to remove all samples that fall in the bottom left quadrant."
   ]
  },
  {
   "cell_type": "code",
   "execution_count": 39,
   "metadata": {
    "scrolled": false
   },
   "outputs": [
    {
     "data": {
      "image/png": "[encoded data removed]",
      "text/plain": [
       "<matplotlib.figure.Figure at 0x1143d8cd0>"
      ]
     },
     "metadata": {},
     "output_type": "display_data"
    }
   ],
   "source": [
    "plt.scatter(df[\"sa.sample_qc.dpMean\"], df[\"sa.sample_qc.callRate\"],\n",
    "            alpha=0.1)\n",
    "plt.xlabel('Mean DP')\n",
    "plt.ylabel('Call Rate')\n",
    "plt.xlim(0, 20)\n",
    "plt.axhline(0.97, c='k')\n",
    "plt.axvline(4, c='k')\n",
    "plt.show()"
   ]
  },
  {
   "cell_type": "markdown",
   "metadata": {},
   "source": [
    "It's easy to filter when we've got the cutoff values decided:"
   ]
  },
  {
   "cell_type": "code",
   "execution_count": 40,
   "metadata": {},
   "outputs": [
    {
     "name": "stdout",
     "output_type": "stream",
     "text": [
      "After filter, 250/1000 samples remain.\n"
     ]
    }
   ],
   "source": [
    "ds = ds.filter_cols((ds.sample_qc.dpMean >= 4) & (ds.sample_qc.callRate >= 0.97))\n",
    "print('After filter, %d/1000 samples remain.' % ds.count_cols())"
   ]
  },
  {
   "cell_type": "markdown",
   "metadata": {},
   "source": [
    "Next is genotype QC. To start, we'll print the post-sample-QC call rate. It's actually gone _up_ since the initial summary - dropping low-quality samples disproportionally removed missing genotypes.\n",
    "\n",
    "Import the `hail.expr.functions` module."
   ]
  },
  {
   "cell_type": "code",
   "execution_count": 41,
   "metadata": {},
   "outputs": [
    {
     "name": "stderr",
     "output_type": "stream",
     "text": [
      "2018-01-17 16:33:40 Hail: WARN: converting OrderedRVD => OrderedRDD\n"
     ]
    },
    {
     "name": "stdout",
     "output_type": "stream",
     "text": [
      "pre QC call rate is 0.992\n"
     ]
    }
   ],
   "source": [
    "import hail.expr.functions as functions\n",
    "\n",
    "call_rate = ds.aggregate_entries(call_rate = agg.fraction(functions.is_defined(ds.GT))).call_rate\n",
    "print('pre QC call rate is %.3f' % call_rate)"
   ]
  },
  {
   "cell_type": "markdown",
   "metadata": {},
   "source": [
    "It's a good idea to filter out genotypes where the reads aren't where they should be: if we find a genotype called homozygous reference with >10% alternate reads, a genotype called homozygous alternate with >10% reference reads, or a genotype called heterozygote without a ref / alt balance near 1:1, it is likely to be an error."
   ]
  },
  {
   "cell_type": "code",
   "execution_count": 42,
   "metadata": {
    "collapsed": true
   },
   "outputs": [],
   "source": [
    "ab = ds.AD[1]/ds.AD.sum()\n",
    "\n",
    "filter_condition_ab = ((ds.GT.is_hom_ref() & (ab <= 0.1)) |\n",
    "                        (ds.GT.is_het() & (ab >= 0.25) & (ab <= 0.75)) |\n",
    "                        (ds.GT.is_hom_var() & (ab >= 0.9)))\n",
    "\n",
    "ds = ds.filter_entries(filter_condition_ab)"
   ]
  },
  {
   "cell_type": "code",
   "execution_count": 43,
   "metadata": {},
   "outputs": [
    {
     "name": "stderr",
     "output_type": "stream",
     "text": [
      "2018-01-17 16:33:48 Hail: WARN: converting OrderedRVD => OrderedRDD\n"
     ]
    },
    {
     "name": "stdout",
     "output_type": "stream",
     "text": [
      "post QC call rate is 0.956\n"
     ]
    }
   ],
   "source": [
    "post_qc_call_rate = ds.aggregate_entries(post_qc_call_rate = agg.fraction(functions.is_defined(ds.GT))).post_qc_call_rate\n",
    "print('post QC call rate is %.3f' % post_qc_call_rate)"
   ]
  },
  {
   "cell_type": "markdown",
   "metadata": {},
   "source": [
    "<del>Variant QC is a bit more of the same: we can use the [variant_qc](https://hail.is/hail/hail.VariantDataset.html#hail.VariantDataset.variant_qc) method to produce a variety of useful statistics, plot them, and filter.</del>\n",
    "\n",
    "Variant QC is a bit more of the same: we can use the [row_schema](https://hail.is/docs/devel/api2/hail.api2.MatrixTable.html?highlight=row_schema#hail.api2.MatrixTable.row_schema) method to produce a variety of useful statistics, plot them, and filter."
   ]
  },
  {
   "cell_type": "code",
   "execution_count": 44,
   "metadata": {},
   "outputs": [
    {
     "name": "stdout",
     "output_type": "stream",
     "text": [
      "Struct{\n",
      "     rsid: String,\n",
      "     qual: Float64,\n",
      "     filters: Set[String],\n",
      "     info: Struct{\n",
      "         AC: Array[Int32],\n",
      "         AF: Array[Float64],\n",
      "         AN: Int32,\n",
      "         BaseQRankSum: Float64,\n",
      "         ClippingRankSum: Float64,\n",
      "         DP: Int32,\n",
      "         DS: Boolean,\n",
      "         FS: Float64,\n",
      "         HaplotypeScore: Float64,\n",
      "         InbreedingCoeff: Float64,\n",
      "         MLEAC: Array[Int32],\n",
      "         MLEAF: Array[Float64],\n",
      "         MQ: Float64,\n",
      "         MQ0: Int32,\n",
      "         MQRankSum: Float64,\n",
      "         QD: Float64,\n",
      "         ReadPosRankSum: Float64,\n",
      "         set: String\n",
      "     }\n",
      " }\n"
     ]
    }
   ],
   "source": [
    "pprint(ds.row_schema)"
   ]
  },
  {
   "cell_type": "markdown",
   "metadata": {},
   "source": [
    "The [cache](https://hail.is/hail/hail.VariantDataset.html#hail.VariantDataset.cache) is used to optimize some of the downstream operations."
   ]
  },
  {
   "cell_type": "code",
   "execution_count": 45,
   "metadata": {
    "collapsed": true
   },
   "outputs": [],
   "source": [
    "ds = methods.variant_qc(ds).cache()"
   ]
  },
  {
   "cell_type": "code",
   "execution_count": 46,
   "metadata": {},
   "outputs": [
    {
     "name": "stdout",
     "output_type": "stream",
     "text": [
      "Struct{\n",
      "     rsid: String,\n",
      "     qual: Float64,\n",
      "     filters: Set[String],\n",
      "     info: Struct{\n",
      "         AC: Array[Int32],\n",
      "         AF: Array[Float64],\n",
      "         AN: Int32,\n",
      "         BaseQRankSum: Float64,\n",
      "         ClippingRankSum: Float64,\n",
      "         DP: Int32,\n",
      "         DS: Boolean,\n",
      "         FS: Float64,\n",
      "         HaplotypeScore: Float64,\n",
      "         InbreedingCoeff: Float64,\n",
      "         MLEAC: Array[Int32],\n",
      "         MLEAF: Array[Float64],\n",
      "         MQ: Float64,\n",
      "         MQ0: Int32,\n",
      "         MQRankSum: Float64,\n",
      "         QD: Float64,\n",
      "         ReadPosRankSum: Float64,\n",
      "         set: String\n",
      "     },\n",
      "     variant_qc: Struct{\n",
      "         callRate: Float64,\n",
      "         AC: Int32,\n",
      "         AF: Float64,\n",
      "         nCalled: Int32,\n",
      "         nNotCalled: Int32,\n",
      "         nHomRef: Int32,\n",
      "         nHet: Int32,\n",
      "         nHomVar: Int32,\n",
      "         dpMean: Float64,\n",
      "         dpStDev: Float64,\n",
      "         gqMean: Float64,\n",
      "         gqStDev: Float64,\n",
      "         nNonRef: Int32,\n",
      "         rHeterozygosity: Float64,\n",
      "         rHetHomVar: Float64,\n",
      "         rExpectedHetFrequency: Float64,\n",
      "         pHWE: Float64\n",
      "     }\n",
      " }\n"
     ]
    }
   ],
   "source": [
    "pprint(ds.row_schema)"
   ]
  },
  {
   "cell_type": "markdown",
   "metadata": {},
   "source": [
    "<font color='red'>Convert the variants to a Pandas DataFrame (by first converting to a hail1 Variant Dataset).</font>"
   ]
  },
  {
   "cell_type": "code",
   "execution_count": 47,
   "metadata": {},
   "outputs": [
    {
     "data": {
      "image/png": "[encoded data removed]",
      "text/plain": [
       "<matplotlib.figure.Figure at 0x1146d4290>"
      ]
     },
     "metadata": {},
     "output_type": "display_data"
    }
   ],
   "source": [
    "variant_df = ds.to_hail1().variants_table().to_pandas()\n",
    "\n",
    "plt.clf()\n",
    "plt.subplot(2, 2, 1)\n",
    "variantgq_means = variant_df[\"va.variant_qc.gqMean\"]\n",
    "plt.hist(variantgq_means, bins = np.arange(0, 84, 2))\n",
    "plt.xlabel(\"Variant Mean GQ\")\n",
    "plt.ylabel(\"Frequency\")\n",
    "plt.xlim(0, 80)\n",
    "\n",
    "plt.subplot(2, 2, 2)\n",
    "variant_mleaf = variant_df[\"va.variant_qc.AF\"]\n",
    "plt.hist(variant_mleaf, bins = np.arange(0, 1.05, .025))\n",
    "plt.xlabel(\"Minor Allele Frequency\")\n",
    "plt.ylabel(\"Frequency\")\n",
    "plt.xlim(0, 1)\n",
    "\n",
    "plt.subplot(2, 2, 3)\n",
    "plt.hist(variant_df['va.variant_qc.callRate'], bins = np.arange(0, 1.05, .01))\n",
    "plt.xlabel(\"Variant Call Rate\")\n",
    "plt.ylabel(\"Frequency\")\n",
    "plt.xlim(.5, 1)\n",
    "\n",
    "plt.subplot(2, 2, 4)\n",
    "plt.hist(variant_df['va.variant_qc.pHWE'], bins = np.arange(0, 1.05, .025))\n",
    "plt.xlabel(\"Hardy-Weinberg Equilibrium p-value\")\n",
    "plt.ylabel(\"Frequency\")\n",
    "plt.xlim(0, 1)\n",
    "\n",
    "plt.tight_layout()\n",
    "plt.show()\n",
    "\n"
   ]
  },
  {
   "cell_type": "markdown",
   "metadata": {},
   "source": [
    "<del>These statistics actually look pretty good: we don't need to filter this dataset. Most datasets require thoughtful quality control, though. The [filter_variants_expr](https://hail.is/hail/hail.VariantDataset.html#hail.VariantDataset.filter_variants_expr) method can help!</del>\n",
    "\n",
    "These statistics actually look pretty good: we don't need to filter this dataset. Most datasets require thoughtful quality control, though. The [filter_rows](https://hail.is/docs/devel/api2/hail.api2.MatrixTable.html#hail.api2.MatrixTable.filter_rows) method can help!"
   ]
  },
  {
   "cell_type": "markdown",
   "metadata": {},
   "source": [
    "## Let's do a GWAS!\n",
    "\n",
    "First, we need to restrict to variants that are : \n",
    "\n",
    " - common (we'll use a cutoff of 1%)\n",
    " - uncorrelated (not in linkage disequilibrium)\n",
    " \n",
    "Both of these are easy in Hail.\n",
    "\n",
    "<font color='red'>Missing ld_prune</font>"
   ]
  },
  {
   "cell_type": "code",
   "execution_count": 48,
   "metadata": {
    "collapsed": true
   },
   "outputs": [],
   "source": [
    "common_ds = ds.filter_rows(ds.variant_qc.AF > 0.01)"
   ]
  },
  {
   "cell_type": "code",
   "execution_count": 49,
   "metadata": {},
   "outputs": [
    {
     "name": "stdout",
     "output_type": "stream",
     "text": [
      "Samples: 250  Variants: 9177\n"
     ]
    }
   ],
   "source": [
    "print('Samples: %d  Variants: %d' % (common_ds.count_cols(), common_ds.count_rows()))"
   ]
  },
  {
   "cell_type": "markdown",
   "metadata": {},
   "source": [
    "These filters removed about 15% of sites (we started with a bit over 10,000). This is _NOT_ representative of most sequencing datasets! We have already downsampled the full thousand genomes dataset to include more common variants than we'd expect by chance.\n",
    "\n",
    "In Hail, the association tests accept sample annotations for the sample phenotype and covariates. Since we've already got our phenotype of interest (caffeine consumption) in the dataset, we are good to go:"
   ]
  },
  {
   "cell_type": "code",
   "execution_count": 50,
   "metadata": {},
   "outputs": [
    {
     "name": "stderr",
     "output_type": "stream",
     "text": [
      "2018-01-17 16:35:06 Hail: INFO: Running linear regression for 1 phenotype on 250 samples with 1 covariate including intercept...\n"
     ]
    },
    {
     "name": "stdout",
     "output_type": "stream",
     "text": [
      "Struct{\n",
      "     rsid: String,\n",
      "     qual: Float64,\n",
      "     filters: Set[String],\n",
      "     info: Struct{\n",
      "         AC: Array[Int32],\n",
      "         AF: Array[Float64],\n",
      "         AN: Int32,\n",
      "         BaseQRankSum: Float64,\n",
      "         ClippingRankSum: Float64,\n",
      "         DP: Int32,\n",
      "         DS: Boolean,\n",
      "         FS: Float64,\n",
      "         HaplotypeScore: Float64,\n",
      "         InbreedingCoeff: Float64,\n",
      "         MLEAC: Array[Int32],\n",
      "         MLEAF: Array[Float64],\n",
      "         MQ: Float64,\n",
      "         MQ0: Int32,\n",
      "         MQRankSum: Float64,\n",
      "         QD: Float64,\n",
      "         ReadPosRankSum: Float64,\n",
      "         set: String\n",
      "     },\n",
      "     variant_qc: Struct{\n",
      "         callRate: Float64,\n",
      "         AC: Int32,\n",
      "         AF: Float64,\n",
      "         nCalled: Int32,\n",
      "         nNotCalled: Int32,\n",
      "         nHomRef: Int32,\n",
      "         nHet: Int32,\n",
      "         nHomVar: Int32,\n",
      "         dpMean: Float64,\n",
      "         dpStDev: Float64,\n",
      "         gqMean: Float64,\n",
      "         gqStDev: Float64,\n",
      "         nNonRef: Int32,\n",
      "         rHeterozygosity: Float64,\n",
      "         rHetHomVar: Float64,\n",
      "         rExpectedHetFrequency: Float64,\n",
      "         pHWE: Float64\n",
      "     },\n",
      "     linreg: Struct{\n",
      "         nCompleteSamples: Int32,\n",
      "         AC: Float64,\n",
      "         ytx: Array[Float64],\n",
      "         beta: Array[Float64],\n",
      "         se: Array[Float64],\n",
      "         tstat: Array[Float64],\n",
      "         pval: Array[Float64]\n",
      "     }\n",
      " }\n"
     ]
    }
   ],
   "source": [
    "gwas = methods.linreg(common_ds, [common_ds.CaffeineConsumption], common_ds.GT.num_alt_alleles())\n",
    "pprint(gwas.row_schema)"
   ]
  },
  {
   "cell_type": "markdown",
   "metadata": {},
   "source": [
    "Looking at the bottom of the above printout, you can see the linear regression adds new variant annotations for the beta, standard error, t-statistic, and p-value."
   ]
  },
  {
   "cell_type": "code",
   "execution_count": 51,
   "metadata": {
    "collapsed": true
   },
   "outputs": [],
   "source": [
    "def qqplot(pvals, xMax, yMax):\n",
    "    spvals = sorted(filter(lambda x: x and not(isnan(x)), pvals))\n",
    "    exp = [-log(float(i) / len(spvals), 10) for i in np.arange(1, len(spvals) + 1, 1)]\n",
    "    obs = [-log(p, 10) for p in spvals]\n",
    "    plt.clf()\n",
    "    plt.scatter(exp, obs)\n",
    "    plt.plot(np.arange(0, max(xMax, yMax)), c=\"red\")\n",
    "    plt.xlabel(\"Expected p-value (-log10 scale)\")\n",
    "    plt.ylabel(\"Observed p-value (-log10 scale)\")\n",
    "    plt.xlim(0, xMax)\n",
    "    plt.ylim(0, yMax)\n",
    "    plt.show()"
   ]
  },
  {
   "cell_type": "markdown",
   "metadata": {},
   "source": [
    "Python makes it easy to make a [Q-Q (quantile-quantile) plot](https://en.wikipedia.org/wiki/Q-Q_plot)."
   ]
  },
  {
   "cell_type": "code",
   "execution_count": 52,
   "metadata": {},
   "outputs": [
    {
     "name": "stderr",
     "output_type": "stream",
     "text": [
      "2018-01-17 16:35:18 Hail: WARN: converting OrderedRVD => OrderedRDD\n"
     ]
    },
    {
     "data": {
      "image/png": "[encoded data removed]",
      "text/plain": [
       "<matplotlib.figure.Figure at 0x1146c7050>"
      ]
     },
     "metadata": {},
     "output_type": "display_data"
    }
   ],
   "source": [
    "qqplot(gwas.aggregate_rows(pvals = agg.collect(gwas.linreg.pval[0])).pvals, 5, 6)"
   ]
  },
  {
   "cell_type": "markdown",
   "metadata": {},
   "source": [
    "## Confounded!\n",
    "\n",
    "The observed p-values drift away from the expectation immediately. Either every SNP in our dataset is causally linked to caffeine consumption (unlikely), or there's a confounder.\n",
    "\n",
    "We didn't tell you, but sample ancestry was actually used to simulate this phenotype. This leads to a [stratified](https://en.wikipedia.org/wiki/Population_stratification) distribution of the phenotype. The solution is to include ancestry as a covariate in our regression. \n",
    "\n",
    "The <del>[linreg](https://hail.is/hail/hail.VariantDataset.html#hail.VariantDataset.linreg)</del> [linreg](https://hail.is/docs/devel/methods/index.html?highlight=linreg#hail.methods.linreg) method can also take sample annotations to use as covariates. We already annotated our samples with reported ancestry, but it is good to be skeptical of these labels due to human error. Genomes don't have that problem! Instead of using reported ancestry, we will use genetic ancestry by including computed principal components in our model.\n",
    "\n",
    "The <del>[pca](https://hail.is/hail/hail.VariantDataset.html#hail.VariantDataset.pca)</del> [pca](https://hail.is/docs/devel/methods/index.html#hail.methods.pca) method produces eigenvalues as a list and sample PCs as a KeyTable, and can also produce variant loadings when asked. The <del>[pca_of_normalized_genotypes](https://hail.is/hail/hail.VariantDataset.html#hail.VariantDataset.pca_of_normalized_genotypes)</del> [hwe_normalized_pca](https://hail.is/docs/devel/methods/index.html#hail.methods.hwe_normalized_pca) method does the same, using HWE-normalized genotypes for the PCA."
   ]
  },
  {
   "cell_type": "code",
   "execution_count": 54,
   "metadata": {},
   "outputs": [
    {
     "name": "stderr",
     "output_type": "stream",
     "text": [
      "2018-01-17 16:41:36 Hail: INFO: Running PCA using 9169 variants.\n",
      "2018-01-17 16:41:36 Hail: INFO: Running PCA with 10 components...\n"
     ]
    }
   ],
   "source": [
    "pca_eigenvalues, pca_scores, _ = methods.hwe_normalized_pca(common_ds)"
   ]
  },
  {
   "cell_type": "code",
   "execution_count": 55,
   "metadata": {},
   "outputs": [
    {
     "name": "stdout",
     "output_type": "stream",
     "text": [
      "[23.66115135007735,\n",
      " 11.398548752781213,\n",
      " 3.631737419697766,\n",
      " 2.7576029831927085,\n",
      " 1.5880710806320033,\n",
      " 1.5108402358523811,\n",
      " 1.4858366372836007,\n",
      " 1.4578937514801846,\n",
      " 1.4430113601324204,\n",
      " 1.421810008138029]\n"
     ]
    }
   ],
   "source": [
    "pprint(pca_eigenvalues)"
   ]
  },
  {
   "cell_type": "code",
   "execution_count": 56,
   "metadata": {},
   "outputs": [
    {
     "name": "stdout",
     "output_type": "stream",
     "text": [
      "is.hail.table.Table@2b72f26e\n"
     ]
    }
   ],
   "source": [
    "pprint(pca_scores)"
   ]
  },
  {
   "cell_type": "markdown",
   "metadata": {},
   "source": [
    "Now that we've got principal components per sample, we may as well plot them! Human history exerts a strong effect in genetic datasets. Even with a 50MB sequencing dataset, we can recover the major human populations."
   ]
  },
  {
   "cell_type": "code",
   "execution_count": 57,
   "metadata": {},
   "outputs": [
    {
     "data": {
      "image/png": "[encoded data removed]",
      "text/plain": [
       "<matplotlib.figure.Figure at 0x1a19eef490>"
      ]
     },
     "metadata": {},
     "output_type": "display_data"
    }
   ],
   "source": [
    "pca_table = pca_scores.join(common_ds.cols_table()).to_hail1().to_pandas()\n",
    "\n",
    "colors = {'AFR': 'green', 'AMR': 'red', 'EAS': 'black', 'EUR': 'blue', 'SAS': 'cyan'}\n",
    "plt.scatter(pca_table[\"pcaScores.PC1\"], pca_table[\"pcaScores.PC2\"], \n",
    "            c = pca_table[\"SuperPopulation\"].map(colors), \n",
    "            alpha = .5)\n",
    "plt.xlim(-0.6, 0.6)\n",
    "plt.xlabel(\"PC1\")\n",
    "plt.ylabel(\"PC2\")\n",
    "legend_entries = [mpatches.Patch(color=c, label=pheno) for pheno, c in colors.items()]\n",
    "plt.legend(handles=legend_entries, loc=2)\n",
    "plt.show()"
   ]
  },
  {
   "cell_type": "markdown",
   "metadata": {},
   "source": [
    "Now we can rerun our linear regression, controlling for the first few principal components and sample sex."
   ]
  },
  {
   "cell_type": "code",
   "execution_count": 58,
   "metadata": {},
   "outputs": [
    {
     "name": "stderr",
     "output_type": "stream",
     "text": [
      "2018-01-17 16:42:20 Hail: WARN: Analysis warning: low complexity: expected an expression indexed by ['column', 'row'], found indices ['column']. Results will be broadcast along ['row'].\n",
      "2018-01-17 16:42:21 Hail: INFO: Running linear regression for 1 phenotype on 250 samples with 5 covariates including intercept...\n",
      "2018-01-17 16:42:21 Hail: WARN: converting OrderedRVD => OrderedRDD\n"
     ]
    }
   ],
   "source": [
    "cds = common_ds.annotate_cols(pca = pca_scores[common_ds.s])\n",
    "\n",
    "linreg_results = methods.linreg(cds, [cds.CaffeineConsumption], cds.GT.num_alt_alleles(),\n",
    "                                covariates=[cds.pca.PC1, cds.pca.PC2, cds.pca.PC3, cds.isFemale])\n",
    "\n",
    "pvals = linreg_results.aggregate_rows(pvals=agg.collect(linreg_results.linreg.pval[0])).pvals"
   ]
  },
  {
   "cell_type": "code",
   "execution_count": 59,
   "metadata": {
    "scrolled": false
   },
   "outputs": [
    {
     "data": {
      "image/png": "[encoded data removed]",
      "text/plain": [
       "<matplotlib.figure.Figure at 0x1a19f871d0>"
      ]
     },
     "metadata": {},
     "output_type": "display_data"
    }
   ],
   "source": [
    "qqplot(pvals, 5, 6)"
   ]
  },
  {
   "cell_type": "markdown",
   "metadata": {},
   "source": [
    "<font color='red'> missing assertion that PL's length is 3</font>"
   ]
  },
  {
   "cell_type": "code",
   "execution_count": 60,
   "metadata": {
    "collapsed": true
   },
   "outputs": [],
   "source": [
    "def plDosage(pl):\n",
    "    linear_scaled = pl.map(lambda x: 10 ** (-x / 10))\n",
    "    pl_sum = linear_scaled.sum()\n",
    "    normed = linear_scaled / pl_sum\n",
    "    return 1 * normed[1] + 2 * normed[2]"
   ]
  },
  {
   "cell_type": "code",
   "execution_count": 61,
   "metadata": {},
   "outputs": [
    {
     "name": "stderr",
     "output_type": "stream",
     "text": [
      "2018-01-17 16:42:33 Hail: INFO: Running linear regression for 1 phenotype on 250 samples with 5 covariates including intercept...\n",
      "2018-01-17 16:42:33 Hail: WARN: converting OrderedRVD => OrderedRDD\n"
     ]
    }
   ],
   "source": [
    "linreg_results = methods.linreg(cds, [cds.CaffeineConsumption], plDosage(cds.PL),\n",
    "                                covariates=[cds.pca.PC1, cds.pca.PC2, cds.pca.PC3, cds.isFemale])\n",
    "\n",
    "pvals = linreg_results.aggregate_rows(pvals=agg.collect(linreg_results.linreg.pval[0])).pvals"
   ]
  },
  {
   "cell_type": "code",
   "execution_count": 62,
   "metadata": {},
   "outputs": [
    {
     "data": {
      "image/png": "[encoded data removed]",
      "text/plain": [
       "<matplotlib.figure.Figure at 0x1a1a1668d0>"
      ]
     },
     "metadata": {},
     "output_type": "display_data"
    }
   ],
   "source": [
    "qqplot(pvals, 5, 6)"
   ]
  },
  {
   "cell_type": "markdown",
   "metadata": {},
   "source": [
    "That's more like it! We may not be publishing ten new coffee-drinking loci in _Nature_, but we shouldn't expect to find anything but the strongest signals from a dataset of 1000 individuals anyway. "
   ]
  },
  {
   "cell_type": "markdown",
   "metadata": {},
   "source": [
    "## Rare variant analysis\n",
    "\n",
    "Here we'll demonstrate how one can use the expression language to group and count by any arbitrary properties in variant or sample annotations. Hail also implements the sequence kernel association test (SKAT).\n"
   ]
  },
  {
   "cell_type": "code",
   "execution_count": 63,
   "metadata": {
    "scrolled": true
   },
   "outputs": [],
   "source": [
    "entries = ds.entries_table()\n",
    "kt = (entries.group_by(pop = entries.SuperPopulation, chromosome = entries.v.contig)\n",
    "      .aggregate(n_het = agg.count_where(entries.GT.is_het())))\n"
   ]
  },
  {
   "cell_type": "markdown",
   "metadata": {},
   "source": [
    "<font color='red'>Convert to a Hail 0.1 VariantDataset, then convert to a Pandas DataFrame</font>"
   ]
  },
  {
   "cell_type": "code",
   "execution_count": 64,
   "metadata": {},
   "outputs": [
    {
     "name": "stdout",
     "output_type": "stream",
     "text": [
      "+----------+---+-----+\n",
      "|chromosome|pop|n_het|\n",
      "+----------+---+-----+\n",
      "|        16|EAS| 4769|\n",
      "|        22|SAS| 1776|\n",
      "|         X|EUR| 1081|\n",
      "|        10|SAS| 6704|\n",
      "|        17|AFR| 4428|\n",
      "|        11|EUR| 5112|\n",
      "|         6|EAS| 8715|\n",
      "|        20|EAS| 3975|\n",
      "|        11|AMR| 3735|\n",
      "|         8|EUR| 4828|\n",
      "|         5|EAS| 8556|\n",
      "|        20|SAS| 3713|\n",
      "|        22|AMR| 1004|\n",
      "|        11|SAS| 6381|\n",
      "|         8|AMR| 3792|\n",
      "|         4|SAS| 7984|\n",
      "|        12|EAS| 6808|\n",
      "|        13|AMR| 2538|\n",
      "|         7|AMR| 3897|\n",
      "|         3|EUR| 6660|\n",
      "+----------+---+-----+\n",
      "only showing top 20 rows\n",
      "\n"
     ]
    }
   ],
   "source": [
    "kt.to_hail1().to_dataframe().show() "
   ]
  },
  {
   "cell_type": "markdown",
   "metadata": {},
   "source": [
    "What if we want to group by minor allele frequency bin and hair color, and calculate the mean GQ?"
   ]
  },
  {
   "cell_type": "code",
   "execution_count": 65,
   "metadata": {},
   "outputs": [],
   "source": [
    "entries = entries.annotate(maf_bin = functions.cond(entries.info.AF[0]<0.01, \"< 1%\", \n",
    "                              functions.cond(entries.info.AF[0]<0.05, \"1%-5%\", \">5%\")))\n",
    "\n",
    "kt2 = (entries.group_by(af_bin = entries.maf_bin, purple_hair = entries.PurpleHair)\n",
    "      .aggregate(mean_gq = agg.stats(entries.GQ).mean, mean_dp = agg.stats(entries.DP).mean))\n",
    "\n"
   ]
  },
  {
   "cell_type": "code",
   "execution_count": 66,
   "metadata": {},
   "outputs": [
    {
     "name": "stdout",
     "output_type": "stream",
     "text": [
      "+------+-----------+------------------+------------------+\n",
      "|af_bin|purple_hair|           mean_gq|           mean_dp|\n",
      "+------+-----------+------------------+------------------+\n",
      "|   >5%|      false|36.057763534783824|  7.51977066258284|\n",
      "|  < 1%|       true|23.207061694136765| 7.548984522641973|\n",
      "| 1%-5%|       true|24.166375980048606|7.4327698902997605|\n",
      "|  < 1%|      false| 23.07924368253285| 7.499550788286762|\n",
      "| 1%-5%|      false|24.268524992619547|7.3977532279867635|\n",
      "|   >5%|       true| 36.45369778494109|7.5749512639607985|\n",
      "+------+-----------+------------------+------------------+\n",
      "\n"
     ]
    }
   ],
   "source": [
    "kt2.to_hail1().to_dataframe().show()"
   ]
  },
  {
   "cell_type": "markdown",
   "metadata": {},
   "source": [
    "We've shown that it's easy to aggregate by a couple of arbitrary statistics. This specific examples may not provide especially useful pieces of information, but this same pattern can be used to detect effects of rare variation:\n",
    "\n",
    " - Count the number of heterozygous genotypes per gene by functional category (synonymous, missense, or loss-of-function) to estimate per-gene functional constraint\n",
    " - Count the number of singleton loss-of-function mutations per gene in cases and controls to detect genes involved in disease"
   ]
  },
  {
   "cell_type": "markdown",
   "metadata": {},
   "source": [
    "## Eplilogue\n",
    "\n",
    "Congrats! If you've made it this far, you're perfectly primed to read the [Overview](https://hail.is/hail/overview.html)<font color='red'>no overview for hail2</font>, look through the [Hail objects](https://hail.is/hail/types.html) representing many core concepts in genetics, and check out the many Hail functions defined in the [Python API](https://hail.is/hail/api.html). If you use Hail for your own science, we'd love to hear from you on [Gitter chat](https://gitter.im/hail-is/hail) or the [discussion forum](http://discuss.hail.is).\n",
    "\n",
    "There's also a lot of functionality inside Hail that we didn't get to in this broad overview. Things like:\n",
    "\n",
    " - Flexible import and export to a variety of data and annotation formats (VCF, BGEN, PLINK, JSON, TSV, ...)\n",
    " - Simulation\n",
    " - Kinship and pruning (IBD, GRM, RRM, LD)\n",
    " - Family-based tests and utilities\n",
    " - Distributed file system utilities\n",
    " - Interoperability with Python and Spark machine learning libraries\n",
    " - More!\n",
    "\n",
    "For reference, here's the full workflow to all tutorial endpoints combined into one cell. It may take a minute! It's doing a lot of work."
   ]
  },
  {
   "cell_type": "code",
   "execution_count": 347,
   "metadata": {},
   "outputs": [
    {
     "name": "stderr",
     "output_type": "stream",
     "text": [
      "2018-01-17 16:07:31 Hail: INFO: Reading table to impute column types\n",
      "2018-01-17 16:07:31 Hail: INFO: Finished type imputation\n",
      "  Loading column `Sample' as type String (imputed)\n",
      "  Loading column `Population' as type String (imputed)\n",
      "  Loading column `SuperPopulation' as type String (imputed)\n",
      "  Loading column `isFemale' as type Boolean (imputed)\n",
      "  Loading column `PurpleHair' as type Boolean (imputed)\n",
      "  Loading column `CaffeineConsumption' as type Float64 (imputed)\n",
      "2018-01-17 16:07:31 Hail: WARN: Analysis warning: low complexity: expected an expression indexed by ['column', 'row'], found indices ['column']. Results will be broadcast along ['row'].\n",
      "2018-01-17 16:07:32 Hail: WARN: converting OrderedRVD => OrderedRDD\n",
      "2018-01-17 16:07:33 Hail: WARN: converting OrderedRVD => OrderedRDD\n",
      "2018-01-17 16:07:36 Hail: INFO: Running PCA using 9169 variants.\n",
      "2018-01-17 16:07:36 Hail: INFO: Running PCA with 10 components...\n",
      "2018-01-17 16:08:15 Hail: WARN: Analysis warning: low complexity: expected an expression indexed by ['column', 'row'], found indices ['column']. Results will be broadcast along ['row'].\n",
      "2018-01-17 16:08:15 Hail: INFO: Running linear regression for 1 phenotype on 250 samples with 5 covariates including intercept...\n",
      "2018-01-17 16:08:16 Hail: WARN: converting OrderedRVD => OrderedRDD\n"
     ]
    }
   ],
   "source": [
    "table = hc.import_table('data/1kg_annotations.txt', impute=True).key_by('Sample')\n",
    "\n",
    "ds = hc.read('data/1kg.vds')\n",
    "ds = ds.annotate_cols(dummy = table[ds.s])\n",
    "ds = ds.select_cols(*ds.dummy)\n",
    "ds = methods.sample_qc(ds)\n",
    "ds = ds.filter_cols((ds.sample_qc.dpMean >= 4) & (ds.sample_qc.callRate >= 0.97))\n",
    "ab = ds.AD[1]/ds.AD.sum()\n",
    "filter_condition_ab = ((ds.GT.is_hom_ref() & (ab <= 0.1)) |\n",
    "                        (ds.GT.is_het() & (ab >= 0.25) & (ab <= 0.75)) |\n",
    "                        (ds.GT.is_hom_var() & (ab >= 0.9)))\n",
    "ds = ds.filter_entries(filter_condition_ab)\n",
    "ds = methods.variant_qc(ds)\n",
    "common_ds = ds.filter_rows(ds.variant_qc.AF > 0.01)\n",
    "\n",
    "pca_eigenvalues, pca_scores, _ = methods.hwe_normalized_pca(common_ds)\n",
    "\n",
    "cds = common_ds.annotate_cols(pca = pca_scores[common_ds.s])\n",
    "linreg_results = methods.linreg(cds, [cds.CaffeineConsumption], cds.GT.num_alt_alleles(),\n",
    "                                covariates=[cds.pca.PC1, cds.pca.PC2, cds.pca.PC3, cds.isFemale])\n",
    "pvals = linreg_results.aggregate_rows(pvals=agg.collect(linreg_results.linreg.pval[0])).pvals"
   ]
  }
 ],
 "metadata": {
  "anaconda-cloud": {},
  "kernelspec": {
   "display_name": "Python 2",
   "language": "python",
   "name": "python2"
  },
  "language_info": {
   "codemirror_mode": {
    "name": "ipython",
    "version": 2
   },
   "file_extension": ".py",
   "mimetype": "text/x-python",
   "name": "python",
   "nbconvert_exporter": "python",
   "pygments_lexer": "ipython2",
   "version": "2.7.14"
  }
 },
 "nbformat": 4,
 "nbformat_minor": 1
}
