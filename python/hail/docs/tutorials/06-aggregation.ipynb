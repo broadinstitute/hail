{
 "cells": [
  {
   "cell_type": "markdown",
   "metadata": {},
   "source": [
    "# Aggregation\n",
    "\n",
    "Let's start up Hail, import `matplotlib` and read our movie dataset."
   ]
  },
  {
   "cell_type": "code",
   "execution_count": null,
   "metadata": {
    "slideshow": {
     "slide_type": "fragment"
    }
   },
   "outputs": [],
   "source": [
    "import hail as hl\n",
    "hl.init()\n",
    "\n",
    "import matplotlib.pyplot as plt\n",
    "import seaborn\n",
    "seaborn.set()\n",
    "%matplotlib inline\n",
    "\n",
    "hl.utils.get_movie_lens('data/')\n",
    "users = hl.read_table('data/users.ht')"
   ]
  },
  {
   "cell_type": "markdown",
   "metadata": {
    "slideshow": {
     "slide_type": "slide"
    }
   },
   "source": [
    "# Exploring More Deeply\n",
    "\n",
    "In the last section, we inspected the structure of the data and displayed a few example values."
   ]
  },
  {
   "cell_type": "markdown",
   "metadata": {
    "slideshow": {
     "slide_type": "slide"
    }
   },
   "source": [
    "How do we get a deeper feel for the data?  One of the most natural things to do is to create a summary of a large number of values.  For example, you could ask:\n",
    "\n",
    " - How many women and men are in the dataset?\n",
    " - What is the average age?  Youngest?  Oldest?\n",
    " - What are all the occupations that appear, and how many of each?\n",
    "\n",
    "We can do these things with *aggregation*.  Aggregation combines many values together to create a summary."
   ]
  },
  {
   "cell_type": "markdown",
   "metadata": {
    "slideshow": {
     "slide_type": "slide"
    }
   },
   "source": [
    "# Aggregation\n",
    "\n",
    "To start, we'll aggregate all the values in a table.  (Later, we'll learn how to aggregate over subsets.)\n",
    "\n",
    "We can do this with the Table [aggregate](https://hail.is/docs/devel/hail.Table.html#hail.Table.aggregate) method."
   ]
  },
  {
   "cell_type": "markdown",
   "metadata": {
    "slideshow": {
     "slide_type": "slide"
    }
   },
   "source": [
    "An call to `aggregate` has two parts:\n",
    "\n",
    " - The expression you want to aggregate over (e.g. a field of a `Table`).\n",
    " - The *aggregator* that says how to combine the values into the summary.\n",
    " \n",
    "Hail has a large suite of [aggregators](https://hail.is/docs/devel/aggregators.html) for summarizing data.  Let's see some in action!"
   ]
  },
  {
   "cell_type": "markdown",
   "metadata": {
    "slideshow": {
     "slide_type": "slide"
    }
   },
   "source": [
    "# Aggregators\n",
    "\n",
    "Aggregators live in the `hl.agg` module.  The simplest aggregator is [hl.agg.count](https://hail.is/docs/devel/aggregators.html#hail.expr.aggregators.count).  It takes no arguments and returns the number of values aggregated."
   ]
  },
  {
   "cell_type": "code",
   "execution_count": null,
   "metadata": {
    "slideshow": {
     "slide_type": "fragment"
    }
   },
   "outputs": [],
   "source": [
    "users.aggregate(hl.agg.count())"
   ]
  },
  {
   "cell_type": "code",
   "execution_count": null,
   "metadata": {
    "slideshow": {
     "slide_type": "-"
    }
   },
   "outputs": [],
   "source": [
    "users.count()"
   ]
  },
  {
   "cell_type": "markdown",
   "metadata": {
    "slideshow": {
     "slide_type": "slide"
    }
   },
   "source": [
    "# Aggregators\n",
    "\n",
    "[hl.agg.stats](https://hail.is/docs/devel/aggregators.html#hail.expr.aggregators.stats) computes a bunch of stats of a numeric expression.  There are also numeric aggregators for `mean`, `min`, `max`, `sum`, `product` and `array_sum`."
   ]
  },
  {
   "cell_type": "code",
   "execution_count": null,
   "metadata": {},
   "outputs": [],
   "source": [
    "users.show()"
   ]
  },
  {
   "cell_type": "code",
   "execution_count": null,
   "metadata": {
    "slideshow": {
     "slide_type": "fragment"
    }
   },
   "outputs": [],
   "source": [
    "users.aggregate(hl.agg.stats(users.age))"
   ]
  },
  {
   "cell_type": "markdown",
   "metadata": {
    "slideshow": {
     "slide_type": "slide"
    }
   },
   "source": [
    "# Aggregators\n",
    "\n",
    "`stats` and friends work great for numeric data.  Wwhat about other data types, like categorical data?  \n",
    "\n",
    "[hl.agg.counter](https://hail.is/docs/devel/aggregators.html#hail.expr.aggregators.counter) is modeled on the Python Counter object.\n",
    "\n",
    "It counts the number of times each distinct value occurs in the collection of values being aggregated."
   ]
  },
  {
   "cell_type": "code",
   "execution_count": null,
   "metadata": {
    "slideshow": {
     "slide_type": "slide"
    }
   },
   "outputs": [],
   "source": [
    "users.aggregate(hl.agg.counter(users.occupation))"
   ]
  },
  {
   "cell_type": "markdown",
   "metadata": {
    "slideshow": {
     "slide_type": "slide"
    }
   },
   "source": [
    "# Filter\n",
    "\n",
    "You can filter elements of a collection before aggregating it by using [hl.agg.filter](https://hail.is/docs/devel/aggregators.html#hail.expr.aggregators.filter)."
   ]
  },
  {
   "cell_type": "code",
   "execution_count": null,
   "metadata": {
    "slideshow": {
     "slide_type": "fragment"
    }
   },
   "outputs": [],
   "source": [
    "users.aggregate(hl.agg.count(hl.agg.filter(users.sex == 'M', users.sex)))"
   ]
  },
  {
   "cell_type": "markdown",
   "metadata": {
    "slideshow": {
     "slide_type": "slide"
    }
   },
   "source": [
    "# Filter\n",
    "\n",
    "The argument to filter can be a boolean expresion (like above) or a Python lambda that takes the values in the collection and returns a boolean (True if the value should be kept).  This mirrors the interface to the builtin Python `filter` function."
   ]
  },
  {
   "cell_type": "code",
   "execution_count": null,
   "metadata": {
    "slideshow": {
     "slide_type": "fragment"
    }
   },
   "outputs": [],
   "source": [
    "users.aggregate(hl.agg.count(hl.agg.filter(lambda sex: sex == 'M', users.sex)))"
   ]
  },
  {
   "cell_type": "markdown",
   "metadata": {
    "slideshow": {
     "slide_type": "slide"
    }
   },
   "source": [
    "# Histograms\n",
    "\n",
    "As we saw in the GWAS example, [hl.agg.hist](https://hail.is/docs/devel/aggregators.html#hail.expr.aggregators.hist) can be used to build a histogram over numeric data."
   ]
  },
  {
   "cell_type": "code",
   "execution_count": null,
   "metadata": {
    "slideshow": {
     "slide_type": "slide"
    }
   },
   "outputs": [],
   "source": [
    "hist = users.aggregate(hl.agg.hist(users.age, 10, 70, 60))\n",
    "hist"
   ]
  },
  {
   "cell_type": "code",
   "execution_count": null,
   "metadata": {
    "slideshow": {
     "slide_type": "slide"
    }
   },
   "outputs": [],
   "source": [
    "# note to future self, hist should have start and end, and this should just be hl.plot.hist(hist)\n",
    "plt.xlim(10, 70)\n",
    "plt.bar(hist.bin_edges[:-1], hist.bin_freq)\n",
    "plt.show()"
   ]
  },
  {
   "cell_type": "markdown",
   "metadata": {
    "slideshow": {
     "slide_type": "slide"
    }
   },
   "source": [
    "There are a few aggregators for collecting values.\n",
    " - `take` takes a few values.  It has an optional `ordering`.\n",
    " - `collect` takes all values."
   ]
  },
  {
   "cell_type": "code",
   "execution_count": null,
   "metadata": {
    "slideshow": {
     "slide_type": "slide"
    }
   },
   "outputs": [],
   "source": [
    "users.aggregate(hl.agg.take(users.occupation, 5))"
   ]
  },
  {
   "cell_type": "code",
   "execution_count": null,
   "metadata": {
    "slideshow": {
     "slide_type": "fragment"
    }
   },
   "outputs": [],
   "source": [
    "users.aggregate(hl.agg.take(users.age, 5, -users.age))"
   ]
  },
  {
   "cell_type": "markdown",
   "metadata": {
    "slideshow": {
     "slide_type": "slide"
    }
   },
   "source": [
    "Warning!  Aggregators like `collect` and `counter` return Python objects and can fail with out of memory errors if you apply them to collections that are too large (e.g. all the 50T genotypes of the UKB)."
   ]
  },
  {
   "cell_type": "code",
   "execution_count": null,
   "metadata": {},
   "outputs": [],
   "source": []
  }
 ],
 "metadata": {
  "celltoolbar": "Slideshow",
  "kernelspec": {
   "display_name": "Python 3",
   "language": "python",
   "name": "python3"
  },
  "language_info": {
   "codemirror_mode": {
    "name": "ipython",
    "version": 3
   },
   "file_extension": ".py",
   "mimetype": "text/x-python",
   "name": "python",
   "nbconvert_exporter": "python",
   "pygments_lexer": "ipython3",
   "version": "3.6.3"
  }
 },
 "nbformat": 4,
 "nbformat_minor": 2
}
