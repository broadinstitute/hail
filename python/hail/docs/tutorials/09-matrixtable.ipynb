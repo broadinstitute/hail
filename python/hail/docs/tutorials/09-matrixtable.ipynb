{
 "cells": [
  {
   "cell_type": "markdown",
   "metadata": {
    "slideshow": {
     "slide_type": "slide"
    }
   },
   "source": [
    "# MatrixTable\n",
    "\n",
    "If you've gotten this far, you're probably thinking:\n",
    " 1. \"Can't I do all of this in `pandas` or `R`?\" \n",
    " 2. \"What does this have to do with biology?\"\n",
    "\n",
    "Fear not!  You've learned most of the basic concepts of Hail and now you're ready for the bit that makes it easy to work with genetic data: the [MatrixTable](https://hail.is/docs/devel/hail.MatrixTable.html)."
   ]
  },
  {
   "cell_type": "markdown",
   "metadata": {
    "slideshow": {
     "slide_type": "slide"
    }
   },
   "source": [
    "In the last example, the ratings table had two keys: `movie_id` and `user_id`.  The ratings were secretly a movie by user matrix!\n",
    "\n",
    "Since rating is very sparse, it might be reasonable to store in this way in so-called \"coordinate form\" where each rating is a row of a table.\n",
    "\n",
    "However, the per-row overhead becomes untenable when working with large, dense datasets like sequence data!  That's why we built `MatrixTable`, a 2-dimensional generalization of `Table`."
   ]
  },
  {
   "cell_type": "markdown",
   "metadata": {
    "slideshow": {
     "slide_type": "slide"
    }
   },
   "source": [
    "# MatrixTable Anatomy\n",
    "\n",
    "Remember `Table` had two kinds of fields: globals and row fields.\n",
    "\n",
    "`MatrixTable` has four kinds of fields:\n",
    " - the globals\n",
    " - the row fields\n",
    " - the column fields\n",
    " - the entry fields"
   ]
  },
  {
   "cell_type": "markdown",
   "metadata": {
    "slideshow": {
     "slide_type": "subslide"
    }
   },
   "source": [
    "Row fields are fields that are stored once per row.  These are like INFO fields in a VCF.\n",
    "\n",
    "Column fields are stored once per column.  These have no analog in VCF files, but for sequence data, column fields can store sample metadata, phenotypes, etc.\n",
    "\n",
    "And, of course, entry fields are like the FORMAT fields in a VCF."
   ]
  },
  {
   "cell_type": "markdown",
   "metadata": {
    "slideshow": {
     "slide_type": "slide"
    }
   },
   "source": [
    "# Importing and Reading\n",
    "\n",
    "Like tables, matrix tables can be *imported* from a variety of formats: VCF, (B)GEN, PLINK, TSV, etc.  Matrix tables can also be *read* from a \"native\" matrix table format.  Let's read a sample of prepared 1KG data."
   ]
  },
  {
   "cell_type": "code",
   "execution_count": null,
   "metadata": {
    "slideshow": {
     "slide_type": "fragment"
    }
   },
   "outputs": [],
   "source": [
    "import hail as hl\n",
    "import matplotlib.pyplot as plt\n",
    "import seaborn\n",
    "seaborn.set()\n",
    "%matplotlib inline\n",
    "\n",
    "hl.utils.get_1kg('data/')"
   ]
  },
  {
   "cell_type": "code",
   "execution_count": null,
   "metadata": {
    "slideshow": {
     "slide_type": "slide"
    }
   },
   "outputs": [],
   "source": [
    "mt = hl.read_matrix_table('data/1kg.mt')\n",
    "mt.describe()"
   ]
  },
  {
   "cell_type": "markdown",
   "metadata": {
    "slideshow": {
     "slide_type": "slide"
    }
   },
   "source": [
    "There are a few things to note:\n",
    " - There is a single column field `s`.  This is the sample ID from the VCF.  Note, it is the column key.\n",
    " - There is a compound row key: `locus` and `alleles`.  \n",
    "     - `locus` has type `locus<GRCh37>`\n",
    "     - `alleles` has type `array<str>`\n",
    " - GT has type `call`.  That's a genotype call!\n",
    " - There is another key type: the partition key. Don't worry about this right now."
   ]
  },
  {
   "cell_type": "markdown",
   "metadata": {
    "slideshow": {
     "slide_type": "slide"
    }
   },
   "source": [
    "Whereas table expressions could be indexed by nothing or indexed by rows, matrix table expression have four options: nothing, indexed by rows, indexed by cols, or indexed by rows and cols (entries).  Let's see some examples."
   ]
  },
  {
   "cell_type": "code",
   "execution_count": null,
   "metadata": {
    "slideshow": {
     "slide_type": "fragment"
    }
   },
   "outputs": [],
   "source": [
    "mt.s.describe()"
   ]
  },
  {
   "cell_type": "code",
   "execution_count": null,
   "metadata": {
    "slideshow": {
     "slide_type": "fragment"
    }
   },
   "outputs": [],
   "source": [
    "mt.GT.describe()"
   ]
  },
  {
   "cell_type": "markdown",
   "metadata": {
    "slideshow": {
     "slide_type": "slide"
    }
   },
   "source": [
    "We belabored the operations on `Table`s because they all have natural analogs (sometimes several) on `MatrixTable`s.  For example:\n",
    " - `count` => `count_{rows, cols}` (and `count` which returns both)\n",
    " - `filter` => `filter_{rows, cols, entries}`\n",
    " - `annotate` => `annotate_{rows, cols, entries}` (and globals for both)\n",
    " - same for `select` and `transmute`\n",
    " - `group_by` => `group_{rows, cols}_by`\n",
    " - `explode` => `expode_{rows, cols}`\n",
    " - `aggregate` => `aggregate_{rows, cols, entries}`"
   ]
  },
  {
   "cell_type": "markdown",
   "metadata": {
    "slideshow": {
     "slide_type": "slide"
    }
   },
   "source": [
    "There are a few more operations special to `MatrixTable`.  One is that you can get the row fields, as a `Table`, with [rows](https://hail.is/docs/devel/hail.MatrixTable.html#hail.MatrixTable.rows), the column fields with [cols](https://hail.is/docs/devel/hail.MatrixTable.html#hail.MatrixTable.cols).  You can also get the entries as a table, along with the corresponding row and column fields, duplicated for each entry in \"coordinate form\" with [entries](https://hail.is/docs/devel/hail.MatrixTable.html#hail.MatrixTable.entries).\n",
    "\n",
    "Let's explore `mt` using these tools.  Let's get the size of the dataset."
   ]
  },
  {
   "cell_type": "code",
   "execution_count": null,
   "metadata": {
    "slideshow": {
     "slide_type": "fragment"
    }
   },
   "outputs": [],
   "source": [
    "mt.count() # (rows, cols)"
   ]
  },
  {
   "cell_type": "markdown",
   "metadata": {
    "slideshow": {
     "slide_type": "slide"
    }
   },
   "source": [
    "Let's look at the first few row keys (variants) and column keys (sample IDs)."
   ]
  },
  {
   "cell_type": "code",
   "execution_count": null,
   "metadata": {
    "slideshow": {
     "slide_type": "fragment"
    }
   },
   "outputs": [],
   "source": [
    "mt.rows().select('locus', 'alleles').show()"
   ]
  },
  {
   "cell_type": "code",
   "execution_count": null,
   "metadata": {
    "slideshow": {
     "slide_type": "slide"
    }
   },
   "outputs": [],
   "source": [
    "mt.s.show()"
   ]
  },
  {
   "cell_type": "markdown",
   "metadata": {
    "slideshow": {
     "slide_type": "slide"
    }
   },
   "source": [
    "Let's investigate the genotypes and the call rate.  Let's look at the first few genotypes:"
   ]
  },
  {
   "cell_type": "code",
   "execution_count": null,
   "metadata": {
    "slideshow": {
     "slide_type": "fragment"
    }
   },
   "outputs": [],
   "source": [
    "mt.GT.show()"
   ]
  },
  {
   "cell_type": "markdown",
   "metadata": {
    "slideshow": {
     "slide_type": "slide"
    }
   },
   "source": [
    "All homozygous reference, which is not surprising.  Let's look at the distribution of genotype calls:"
   ]
  },
  {
   "cell_type": "code",
   "execution_count": null,
   "metadata": {
    "slideshow": {
     "slide_type": "fragment"
    }
   },
   "outputs": [],
   "source": [
    "mt.aggregate_entries(hl.agg.counter(mt.GT.n_alt_alleles()))"
   ]
  },
  {
   "cell_type": "markdown",
   "metadata": {
    "slideshow": {
     "slide_type": "slide"
    }
   },
   "source": [
    "Let's compute the call rate directly, and then plot the distribution of call rates per vairant."
   ]
  },
  {
   "cell_type": "code",
   "execution_count": null,
   "metadata": {
    "slideshow": {
     "slide_type": "subslide"
    }
   },
   "outputs": [],
   "source": [
    "mt.aggregate_entries(hl.agg.fraction(hl.is_defined(mt.GT)))"
   ]
  },
  {
   "cell_type": "markdown",
   "metadata": {
    "slideshow": {
     "slide_type": "slide"
    }
   },
   "source": [
    "Here's a nice trick: you can use an aggregator inside `annotate_rows` and it will aggregate over columns, that is, summarize the values in the row using the aggregator.  Let's compute and plot call rate per variant."
   ]
  },
  {
   "cell_type": "code",
   "execution_count": null,
   "metadata": {
    "slideshow": {
     "slide_type": "slide"
    }
   },
   "outputs": [],
   "source": [
    "mt2 = mt.annotate_rows(call_rate = hl.agg.fraction(hl.is_defined(mt.GT)))\n",
    "mt2.describe()"
   ]
  },
  {
   "cell_type": "code",
   "execution_count": null,
   "metadata": {
    "slideshow": {
     "slide_type": "slide"
    }
   },
   "outputs": [],
   "source": [
    "hist_start = 0\n",
    "hist_end = 1.0\n",
    "n_bins = 100\n",
    "bin_size = (hist_end - hist_start) / n_bins\n",
    "\n",
    "hist = mt2.aggregate_rows(hl.agg.hist(mt2.call_rate, hist_start, hist_end, n_bins))\n",
    "\n",
    "plt.xlim(0.0, 1.0)\n",
    "plt.bar(hist.bin_edges[:-1], hist.bin_freq, width=bin_size, label='call_rate')\n",
    "plt.xlabel('Call Rate')\n",
    "plt.ylabel('Count')\n",
    "plt.title('Variant Call Rate Histogram')\n",
    "plt.legend(loc=2)\n",
    "plt.show()"
   ]
  },
  {
   "cell_type": "markdown",
   "metadata": {
    "slideshow": {
     "slide_type": "slide"
    }
   },
   "source": [
    "# GQ vs DP\n",
    "\n",
    "Let's plot the distribution of GQ and DP values."
   ]
  },
  {
   "cell_type": "code",
   "execution_count": null,
   "metadata": {
    "slideshow": {
     "slide_type": "slide"
    }
   },
   "outputs": [],
   "source": [
    "hist = mt.aggregate_entries(hl.agg.hist(mt.DP, 0, 40, 40))\n",
    "\n",
    "plt.xlim(0, 40)\n",
    "plt.xlabel('DP')\n",
    "plt.ylabel('Count')\n",
    "plt.title('DP Histogram')\n",
    "plt.bar(hist.bin_edges[:-1], hist.bin_freq, width=1, label='DP')\n",
    "plt.legend()\n",
    "plt.show()"
   ]
  },
  {
   "cell_type": "markdown",
   "metadata": {
    "slideshow": {
     "slide_type": "slide"
    }
   },
   "source": [
    "Now, let's do the same thing for GQ."
   ]
  },
  {
   "cell_type": "code",
   "execution_count": null,
   "metadata": {
    "slideshow": {
     "slide_type": "fragment"
    }
   },
   "outputs": [],
   "source": [
    "hist = mt.aggregate_entries(hl.agg.hist(mt.GQ, 0, 100, 100))\n",
    "\n",
    "# note to future self, hist should have start and end, and this should just be hl.plot.hist(hist)\n",
    "plt.xlim(0, 100)\n",
    "plt.xlabel('GQ')\n",
    "plt.ylabel('Count')\n",
    "plt.title('GQ Histogram')\n",
    "plt.bar(hist.bin_edges[:-1], hist.bin_freq, width=1, label='GQ')\n",
    "plt.legend()\n",
    "plt.show()"
   ]
  },
  {
   "cell_type": "markdown",
   "metadata": {
    "slideshow": {
     "slide_type": "slide"
    }
   },
   "source": [
    "# Exercise\n",
    "\n",
    "Whoa!  That's a strange distribution!  There's a huge spike at 100, and the main distribution has the same shape as the DP distribution, but looks like a [Dimetrodon](https://en.wikipedia.org/wiki/Dimetrodon).  Use Hail to figure out what's going on!"
   ]
  }
 ],
 "metadata": {
  "celltoolbar": "Slideshow",
  "kernelspec": {
   "display_name": "Python 3",
   "language": "python",
   "name": "python3"
  },
  "language_info": {
   "codemirror_mode": {
    "name": "ipython",
    "version": 3
   },
   "file_extension": ".py",
   "mimetype": "text/x-python",
   "name": "python",
   "nbconvert_exporter": "python",
   "pygments_lexer": "ipython3",
   "version": "3.6.3"
  }
 },
 "nbformat": 4,
 "nbformat_minor": 2
}
