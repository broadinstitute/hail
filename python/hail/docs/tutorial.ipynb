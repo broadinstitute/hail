{
 "cells": [
  {
   "cell_type": "markdown",
   "metadata": {},
   "source": [
    "### Hail Tutorial\n",
    "\n",
    "In this tutorial, we will analyze data from the final phase of the [1000 Genomes Project](http://www.internationalgenome.org/about), as described in [A global reference for human genetic variation (Nature 2015)](http://www.nature.com/nature/journal/v526/n7571/full/nature15393.html). We have downsampled the dataset to approximately 10,000 variants consisting of both rare and common variants. We obtained sample information (population, super-population, sex) from the [1000 Genomes website](http://www.internationalgenome.org/data-portal/sample).\n",
    "\n",
    "If you haven't already installed Hail, go to [Getting Started](https://hail.is/hail/getting_started.html) for instructions.\n",
    "\n",
    "## Download tutorial data files\n",
    "\n",
    "Download the zip file *Hail_Tutorial_Data-v2.tgz* using [wget](https://www.google.com/search?q=install+wget) or [curl](https://www.google.com/search?q=install+curl):\n",
    "\n",
    "<pre class=\"code noexec\">\n",
    "wget https://storage.googleapis.com/hail-tutorial/Hail_Tutorial_Data-v2.tgz\n",
    "</pre>\n",
    "\n",
    "Unzip the file:\n",
    "\n",
    "<pre class=\"code noexec\">\n",
    "tar -xvzf Hail_Tutorial_Data-v2.tgz --strip 1\n",
    "</pre>\n",
    "\n",
    "The contents are as follows:\n",
    "  \n",
    "  - 1000 Genomes compressed VCF (downsampled to 10K variants, 248 samples):\n",
    "    - *1000Genomes_248samples_coreExome10K.vcf.bgz*\n",
    "  - Sample annotations:\n",
    "    - *1000Genomes.sample_annotations*\n",
    "  - LD-pruned SNP list: \n",
    "    - *purcell5k.interval_list*\n",
    "\n",
    "## Start an IPython interactive shell\n",
    "\n",
    "Start an IPython shell by running the command `ipython` from the directory containing the tutorial files. You should see a window similar to the one shown below. Otherwise, Anaconda is not installed properly.\n",
    "\n",
    "<pre class=\"code noexec\">\n",
    "hail@tutorial-vm:~$ ipython\n",
    "Python 2.7.12 |Anaconda 4.2.0 (64-bit)| (default, Jul  2 2016, 17:42:40)\n",
    "Type \"copyright\", \"credits\" or \"license\" for more information.\n",
    "\n",
    "IPython 5.1.0 -- An enhanced Interactive Python.\n",
    "?         -> Introduction and overview of IPython's features.\n",
    "%quickref -> Quick reference.\n",
    "help      -> Python's own help system.\n",
    "object?   -> Details about 'object', use 'object??' for extra details.\n",
    "\n",
    "In [1]:\n",
    "</pre>\n",
    "\n",
    "In this window, enter two commands:"
   ]
  },
  {
   "cell_type": "code",
   "execution_count": null,
   "metadata": {
    "collapsed": true
   },
   "outputs": [],
   "source": [
    "from hail import *      \n",
    "hc = HailContext()"
   ]
  },
  {
   "cell_type": "markdown",
   "metadata": {},
   "source": [
    "If there is no error, you're ready to start using Hail! Otherwise, make sure that the `export` variables are correctly set and appropriate versions of all dependencies are installed.\n",
    "\n",
    "Before using Hail, let's import the following Python libraries for use throughout the tutorial. Installing and importing [seaborn](http://seaborn.pydata.org/installing.html) is optional; it just makes the plots prettier."
   ]
  },
  {
   "cell_type": "code",
   "execution_count": null,
   "metadata": {
    "collapsed": true
   },
   "outputs": [],
   "source": [
    "import pandas as pd\n",
    "import matplotlib.pyplot as plt\n",
    "import matplotlib.patches as mpatches\n",
    "import numpy as np\n",
    "import seaborn\n",
    "from math import log, isnan\n",
    "\n",
    "%matplotlib inline"
   ]
  },
  {
   "cell_type": "markdown",
   "metadata": {},
   "source": [
    "## Import data\n",
    "\n",
    "We must first import variant data into Hail's internal format of Variant Dataset (VDS). We use the [`import_vcf`](https://hail.is/hail/hail.HailContext.html#hail.HailContext.import_vcf) method on [`HailContext`](https://hail.is/hail/hail.HailContext.html) to load the downsampled 1000 Genomes VCF into Hail. The VCF file is block-compressed (`.vcf.bgz`) which enables Hail to read the file in parallel. Reading files that have not been block-compressed (`.vcf`, `.vcf.gz`) is _significantly_ slower and should be avoided (though often `.vcf.gz` files are in fact block-compressed, in which case renaming to `.vcf.bgz` solves the problem)."
   ]
  },
  {
   "cell_type": "code",
   "execution_count": null,
   "metadata": {
    "collapsed": true
   },
   "outputs": [],
   "source": [
    "vds = hc.import_vcf('1000Genomes_248samples_coreExome10K.vcf.bgz')"
   ]
  },
  {
   "cell_type": "markdown",
   "metadata": {},
   "source": [
    "We next use the [`split_multi`](https://hail.is/hail/hail.VariantDataset.html#hail.VariantDataset.split_multi) method on `dataset` to split multi-allelic variants into biallelic variants. For example, the variant `1:1000:A:T,C` would become two variants: `1:1000:A:T` and `1:1000:A:C`."
   ]
  },
  {
   "cell_type": "code",
   "execution_count": null,
   "metadata": {
    "collapsed": true
   },
   "outputs": [],
   "source": [
    "vds = vds.split_multi()"
   ]
  },
  {
   "cell_type": "markdown",
   "metadata": {},
   "source": [
    "We next use the [`import_keytable`](https://hail.is/hail/hail.HailContext.html#hail.HailContext.import_keytable) method to load phenotypic information into a Hail [`KeyTable`](https://hail.is/hail/hail.KeyTable.html#hail.KeyTable) object. We can use this to annotate samples."
   ]
  },
  {
   "cell_type": "code",
   "execution_count": null,
   "metadata": {
    "collapsed": true
   },
   "outputs": [],
   "source": [
    "table = hc.import_keytable('1000Genomes.sample_annotations', impute=True).key_by('Sample')"
   ]
  },
  {
   "cell_type": "markdown",
   "metadata": {},
   "source": [
    "Here `1000Genomes.sample_annotations` refers to the sample annotation data file. `%%sh` is a handy IPython magic command that allows you to peek at this file without leaving the IPython interpreter."
   ]
  },
  {
   "cell_type": "code",
   "execution_count": null,
   "metadata": {
    "collapsed": false
   },
   "outputs": [],
   "source": [
    "%%sh\n",
    "head 1000Genomes.sample_annotations | column -t"
   ]
  },
  {
   "cell_type": "markdown",
   "metadata": {},
   "source": [
    "We can use Spark Dataframes to preview the table, which is certainly the better way to do it!"
   ]
  },
  {
   "cell_type": "code",
   "execution_count": null,
   "metadata": {
    "collapsed": false
   },
   "outputs": [],
   "source": [
    "table.to_dataframe().show()"
   ]
  },
  {
   "cell_type": "markdown",
   "metadata": {},
   "source": [
    "Now, let's annotate the dataset with this table. We do this with the [`annotate_samples_table`](https://hail.is/hail/hail.VariantDataset.html#hail.VariantDataset.annotate_samples_table) method.\n",
    "\n",
    "In this method, the `root` argument specifies where in sample annotations to put this data. For sample annotations, the root must start with `sa` followed by a `.` and the rest is up to you, so let's use `sa.pheno`."
   ]
  },
  {
   "cell_type": "code",
   "execution_count": null,
   "metadata": {
    "collapsed": true
   },
   "outputs": [],
   "source": [
    "vds = vds.annotate_samples_table(table, root='sa.pheno')"
   ]
  },
  {
   "cell_type": "markdown",
   "metadata": {},
   "source": [
    "Finally, we'll [`write`](https://hail.is/hail/hail.VariantDataset.html#hail.VariantDataset.write) the dataset to disk so that all future computations begin by reading in the fast VDS rather than the slow VCF."
   ]
  },
  {
   "cell_type": "code",
   "execution_count": null,
   "metadata": {
    "collapsed": false
   },
   "outputs": [],
   "source": [
    "out_path = '1kg.vds'\n",
    "vds.write(out_path)"
   ]
  },
  {
   "cell_type": "markdown",
   "metadata": {},
   "source": [
    "## Start exploring\n",
    "\n",
    "Now we're ready to start exploring! Let's practice [`reading`](https://hail.is/hail/hail.HailContext.html#hail.HailContext.read) the dataset back in:"
   ]
  },
  {
   "cell_type": "code",
   "execution_count": null,
   "metadata": {
    "collapsed": false
   },
   "outputs": [],
   "source": [
    "vds = hc.read(out_path)"
   ]
  },
  {
   "cell_type": "markdown",
   "metadata": {},
   "source": [
    "First, we'll print some statistics about the size of the dataset using [`count`](https://hail.is/hail/hail.VariantDataset.html#hail.VariantDataset.count):"
   ]
  },
  {
   "cell_type": "code",
   "execution_count": null,
   "metadata": {
    "collapsed": false
   },
   "outputs": [],
   "source": [
    "vds.count()"
   ]
  },
  {
   "cell_type": "markdown",
   "metadata": {},
   "source": [
    "If the Boolean parameter `genotypes` is passed as `True`, the overall call rate across all genotypes is computed as well:"
   ]
  },
  {
   "cell_type": "code",
   "execution_count": null,
   "metadata": {
    "collapsed": false
   },
   "outputs": [],
   "source": [
    "vds.count(genotypes=True)"
   ]
  },
  {
   "cell_type": "markdown",
   "metadata": {},
   "source": [
    "So the call rate before any QC filtering is about 98.7%.\n",
    "\n",
    "Let's print the types of all annotations."
   ]
  },
  {
   "cell_type": "code",
   "execution_count": null,
   "metadata": {
    "collapsed": false
   },
   "outputs": [],
   "source": [
    "print('variant annotations:')\n",
    "print(vds.variant_schema)\n",
    "print('\\nsample annotations:')\n",
    "print(vds.sample_schema)\n",
    "print('\\nglobal annotations:')\n",
    "print(vds.global_schema)"
   ]
  },
  {
   "cell_type": "markdown",
   "metadata": {},
   "source": [
    "Note the annotations imported from the original VCF, as well as the sample annotations added above. Notice how those six sample annotations loaded above are nested inside `sa.pheno` as defined by the `root` option in [`annotate_samples_table`](https://hail.is/hail/hail.VariantDataset.html#hail.VariantDataset.annotate_samples_table).\n",
    "\n",
    "Next we'll add some global annotations including the list of populations that are present in our dataset and the number of samples in each population, using the Hail expression language and the [`query_samples`](https://hail.is/hail/hail.VariantDataset.html#hail.VariantDataset.query_samples) method. The 1000 Genomes Super-Population codings are:\n",
    "\n",
    "  - SAS = South Asian\n",
    "  - AMR = Americas\n",
    "  - EUR = European\n",
    "  - AFR = African\n",
    "  - EAS = East Asian\n",
    "\n",
    "We'll first build up a list of query expressions, then evaluate them all at once to save time."
   ]
  },
  {
   "cell_type": "code",
   "execution_count": null,
   "metadata": {
    "collapsed": false
   },
   "outputs": [],
   "source": [
    "expressions = [ \n",
    "  'samples.map(s => sa.pheno.Population).collect().toSet()',\n",
    "  'samples.map(s => sa.pheno.SuperPopulation).collect().toSet()',\n",
    "  'samples.filter(s => sa.pheno.PurpleHair).count()',\n",
    "  'samples.filter(s => !sa.pheno.PurpleHair).count()' ]\n",
    "[populations, super_populations, case_count, control_count] = vds.query_samples(expressions)\n",
    "\n",
    "print('populations = %s' % populations)\n",
    "print('super populations = %s' % super_populations)\n",
    "print('case count = %s' % case_count)\n",
    "print('control count = %s' % control_count)\n",
    "print('total samples = %s' % vds.num_samples)"
   ]
  },
  {
   "cell_type": "markdown",
   "metadata": {},
   "source": [
    "Now it's easy to count samples by population using the [`counter()`](https://hail.is/hail/types.html#aggregable-t) aggregator:"
   ]
  },
  {
   "cell_type": "code",
   "execution_count": null,
   "metadata": {
    "collapsed": false
   },
   "outputs": [],
   "source": [
    "[counter] = vds.query_samples(['samples.map(s => sa.pheno.SuperPopulation).counter()'])\n",
    "for k, v in counter.iteritems():\n",
    "    print('population %s found %s times' % (k, v))"
   ]
  },
  {
   "cell_type": "markdown",
   "metadata": {},
   "source": [
    "## Quality control (QC)\n",
    "\n",
    "Before running genotype-phenotype association tests, we better clean up the raw data! We'll filter out:\n",
    "\n",
    "- genotypes that don't have strong evidence supporting the genotype call\n",
    "- samples that are outliers on key summary statistics across the dataset\n",
    "- variants with low mean genotype quality or out of [Hardy-Weinberg equilibrium](https://en.wikipedia.org/wiki/Hardy–Weinberg_principle).\n",
    "\n",
    "The QC procedures below are a sampler covering various features of Hail, not an optimal pipeline for your research.\n",
    "\n",
    "For filtering, we make extensive use of the [Hail expression language](https://hail.is/hail/exprlang.html). Here `g` is genotype, `v` is variant, `s` is sample, and annotations are accessible via `va`, `sa`, and `global`. \n",
    "\n",
    "### Filter genotypes\n",
    "\n",
    "Let's filter genotypes based on allelic balance using the [`filter_genotypes`](https://hail.is/hail/hail.VariantDataset.html#hail.VariantDataset.filter_genotypes) method."
   ]
  },
  {
   "cell_type": "code",
   "execution_count": null,
   "metadata": {
    "collapsed": true
   },
   "outputs": [],
   "source": [
    "filter_condition_ab = '''let ab = g.ad[1] / g.ad.sum() in\n",
    "                         ((g.isHomRef() && ab <= 0.1) || \n",
    "                          (g.isHet() && ab >= 0.25 && ab <= 0.75) || \n",
    "                          (g.isHomVar() && ab >= 0.9))'''\n",
    "vds_gAB = vds.filter_genotypes(filter_condition_ab)"
   ]
  },
  {
   "cell_type": "markdown",
   "metadata": {},
   "source": [
    "In this code, we first construct an expression  `filter_condition_ab` that evaluates to a Boolean. We use `let ... in` syntax to define a temporary variable `ab` for the allelic balance which is calculated from the allelic depth `g.ad`, a zero-indexed array (so `g.ad[0]` and `g.ad[1]` are read counts for reference allele and unique alternate allele, respectively; this dataset is bi-allelic, but Hail supports multi-allelic variants as well). We require for homozygous calls that the allelic balance be within `.1` of the expected mode, and that for heterozygote calls (`g.isHet()`) the allelic balance be between 0.25 and 0.75. Additional methods on genotype are documented [here](https://hail.is/hail/types.html#genotype)."
   ]
  },
  {
   "cell_type": "code",
   "execution_count": null,
   "metadata": {
    "collapsed": false
   },
   "outputs": [],
   "source": [
    "vds_gAB.count(genotypes=True)"
   ]
  },
  {
   "cell_type": "markdown",
   "metadata": {},
   "source": [
    "Now the call rate is about 95%, so nearly 4% of genotypes failed the filter. Filtering out a genotype is equivalent to setting the genotype call to missing.\n",
    "\n",
    "### Filter samples\n",
    "\n",
    "Having removed suspect genotypes, let's next remove variants with low call rate using [`filter_variants_expr`](https://hail.is/hail/hail.VariantDataset.html#hail.VariantDataset.filter_variants_expr) and then calculate summary statistics per sample with the [`sample_qc`](https://hail.is/hail/hail.VariantDataset.html#hail.VariantDataset.sample_qc) method."
   ]
  },
  {
   "cell_type": "code",
   "execution_count": null,
   "metadata": {
    "collapsed": true
   },
   "outputs": [],
   "source": [
    "vds_gAB_vCR = (vds_gAB\n",
    "    .filter_variants_expr('gs.fraction(g => g.isCalled()) > 0.95')\n",
    "    .sample_qc())"
   ]
  },
  {
   "cell_type": "markdown",
   "metadata": {},
   "source": [
    "The call rate for each variant is calculated using the `fraction` [aggregable](https://hail.is/hail/types.html#aggregable-genotype) on the genotypes `gs`. `sample_qc` adds a number of statistics to sample annotations:"
   ]
  },
  {
   "cell_type": "code",
   "execution_count": null,
   "metadata": {
    "collapsed": false
   },
   "outputs": [],
   "source": [
    "print(vds_gAB_vCR.sample_schema)"
   ]
  },
  {
   "cell_type": "markdown",
   "metadata": {},
   "source": [
    "Let's export these sample annotations to a text file and take a look at them:"
   ]
  },
  {
   "cell_type": "code",
   "execution_count": null,
   "metadata": {
    "collapsed": true
   },
   "outputs": [],
   "source": [
    "vds_gAB_vCR.export_samples('sampleqc.txt', 'Sample = s, sa.qc.*')"
   ]
  },
  {
   "cell_type": "code",
   "execution_count": null,
   "metadata": {
    "collapsed": false
   },
   "outputs": [],
   "source": [
    "%%sh\n",
    "head sampleqc.txt | cut -f 1-10"
   ]
  },
  {
   "cell_type": "markdown",
   "metadata": {},
   "source": [
    "We can further analyze these results locally using Python's [matplotlib](http://matplotlib.org/) library. Below is an example plot of two variables (call rate and meanGQ), along with the code that generate the plot."
   ]
  },
  {
   "cell_type": "code",
   "execution_count": null,
   "metadata": {
    "collapsed": false
   },
   "outputs": [],
   "source": [
    "sampleqc_table = vds_gAB_vCR.samples_keytable().to_pandas()\n",
    "\n",
    "plt.subplot(1, 2, 1) \n",
    "plt.hist(sampleqc_table[\"sa.qc.callRate\"], bins=np.arange(.75, 1.01, .01))\n",
    "plt.xlabel(\"Call Rate\")\n",
    "plt.ylabel(\"Frequency\")\n",
    "plt.xlim(.75, 1)\n",
    "plt.axvline(.97, color='r')\n",
    "\n",
    "plt.subplot(1, 2, 2)\n",
    "plt.hist(sampleqc_table[\"sa.qc.gqMean\"], bins=np.arange(0, 105, 5))\n",
    "plt.xlabel(\"Mean Sample GQ\")\n",
    "plt.ylabel(\"Frequency\")\n",
    "plt.xlim(0, 105)\n",
    "plt.axvline(20, color = 'r')\n",
    "\n",
    "plt.tight_layout()\n",
    "plt.show()"
   ]
  },
  {
   "cell_type": "markdown",
   "metadata": {},
   "source": [
    "Let's remove the samples that are outliers in the plots above, where cutoffs are given by the red lines. We'll remove these samples from `vds_gAB` (after filtering genotypes but before filtering variants) because it's possible that poor-quality samples decreased the call rate on variants we'd actually like to keep. Here is one of the many ways we could do this step:"
   ]
  },
  {
   "cell_type": "code",
   "execution_count": null,
   "metadata": {
    "collapsed": true
   },
   "outputs": [],
   "source": [
    "vds_gAB_sCR_sGQ = (vds_gAB\n",
    "    .annotate_samples_table(vds_gAB_vCR.samples_keytable(), expr='sa.qc = table.sa.qc')\n",
    "    .filter_samples_expr('sa.qc.callRate >= 0.97 && sa.qc.gqMean >= 20'))"
   ]
  },
  {
   "cell_type": "markdown",
   "metadata": {},
   "source": [
    "As before, let's use the [`query_samples`](https://hail.is/hail/hail.VariantDataset.html#hail.VariantDataset.query_samples) method to count the number of samples by phenotype that remain in the dataset after filtering."
   ]
  },
  {
   "cell_type": "code",
   "execution_count": null,
   "metadata": {
    "collapsed": false
   },
   "outputs": [],
   "source": [
    "post_qc_exprs = [\n",
    "    'samples.filter(s => sa.pheno.PurpleHair).count()',\n",
    "    'samples.filter(s => !sa.pheno.PurpleHair).count()' ]\n",
    "[num_cases, num_controls] = vds_gAB_sCR_sGQ.query_samples(post_qc_exprs)\n",
    "print('case count is %s, control count is %s' % (num_cases, num_controls))"
   ]
  },
  {
   "cell_type": "markdown",
   "metadata": {},
   "source": [
    "### Filter variants\n",
    "\n",
    "We now have `vds_gAB_sCR_sGQ`, a VDS where low-quality genotypes and samples have been removed.\n",
    "\n",
    "Let's use the [`variant_qc`](https://hail.is/hail/hail.VariantDataset.html#hail.VariantDataset.variant_qc) method to start exploring variant metrics:"
   ]
  },
  {
   "cell_type": "code",
   "execution_count": null,
   "metadata": {
    "collapsed": false
   },
   "outputs": [],
   "source": [
    "vds_gAB_sCR_sGQ = vds_gAB_sCR_sGQ.variant_qc()\n",
    "\n",
    "print(vds_gAB_sCR_sGQ.variant_schema)"
   ]
  },
  {
   "cell_type": "markdown",
   "metadata": {},
   "source": [
    "We've once again used matplotlib to make histograms of four summary statistics (call rate, allele frequency, mean GQ, and Hardy Weinberg Equilibrium p-value. Notice how the histogram for HWE is massively inflated for small p-values. This is because we calculated HWE p-values with all five populations lumped together."
   ]
  },
  {
   "cell_type": "code",
   "execution_count": null,
   "metadata": {
    "collapsed": false
   },
   "outputs": [],
   "source": [
    "variantqc_table = vds_gAB_sCR_sGQ.variants_keytable().to_pandas()\n",
    "\n",
    "plt.subplot(2, 2, 1)\n",
    "variantgq_means = variantqc_table[\"va.qc.gqMean\"]\n",
    "plt.hist(variantgq_means, bins=np.arange(0, 85, 5))\n",
    "plt.xlabel(\"Variant Mean GQ\")\n",
    "plt.ylabel(\"Frequency\")\n",
    "plt.xlim(0, 80)\n",
    "plt.axvline(20, color = 'r')\n",
    "\n",
    "plt.subplot(2, 2, 2)\n",
    "variant_mleaf = variantqc_table[\"va.qc.AF\"]\n",
    "plt.hist(variant_mleaf, bins=np.arange(0, 1.05, .05))\n",
    "plt.xlabel(\"Minor Allele Frequency\")\n",
    "plt.ylabel(\"Frequency\")\n",
    "plt.xlim(0, 1)\n",
    "plt.axvline(0.05, color = 'r')\n",
    "\n",
    "plt.subplot(2, 2, 3)\n",
    "plt.hist(variantqc_table['va.qc.callRate'], bins=np.arange(0, 1.05, .05))\n",
    "plt.xlabel(\"Variant Call Rate\")\n",
    "plt.ylabel(\"Frequency\")\n",
    "plt.xlim(.5, 1)\n",
    "\n",
    "plt.subplot(2, 2, 4)\n",
    "plt.hist(variantqc_table['va.qc.pHWE'], bins = np.arange(0, 1.05, .05))\n",
    "plt.xlabel(\"Hardy-Weinberg Equilibrium p-value\")\n",
    "plt.ylabel(\"Frequency\")\n",
    "plt.xlim(0, 1)\n",
    "\n",
    "plt.tight_layout()\n",
    "plt.show()"
   ]
  },
  {
   "cell_type": "markdown",
   "metadata": {},
   "source": [
    "Let's use the [`annotate_variants_expr`](https://hail.is/hail/hail.VariantDataset.html#hail.VariantDataset.annotate_variants_expr) method to programmatically compute Hardy Weinberg Equilibrium for each population. First, we construct `hwe-expressions`."
   ]
  },
  {
   "cell_type": "code",
   "execution_count": null,
   "metadata": {
    "collapsed": true
   },
   "outputs": [],
   "source": [
    "hwe_expressions = [\n",
    "    'va.hweByPop.hweEUR = gs.filter(g => sa.pheno.SuperPopulation == \"EUR\").hardyWeinberg()',\n",
    "    'va.hweByPop.hweSAS = gs.filter(g => sa.pheno.SuperPopulation == \"SAS\").hardyWeinberg()',\n",
    "    'va.hweByPop.hweAMR = gs.filter(g => sa.pheno.SuperPopulation == \"AMR\").hardyWeinberg()',\n",
    "    'va.hweByPop.hweAFR = gs.filter(g => sa.pheno.SuperPopulation == \"AFR\").hardyWeinberg()',\n",
    "    'va.hweByPop.hweEAS = gs.filter(g => sa.pheno.SuperPopulation == \"EAS\").hardyWeinberg()' ]"
   ]
  },
  {
   "cell_type": "markdown",
   "metadata": {},
   "source": [
    "We can do this more tersely using list comprehensions in Python; we'll use this approach in the remainder of the tutorial."
   ]
  },
  {
   "cell_type": "code",
   "execution_count": null,
   "metadata": {
    "collapsed": true
   },
   "outputs": [],
   "source": [
    "populations = ['EUR', 'SAS', 'AMR', 'AFR', 'EAS']\n",
    "hwe_expressions = ['va.hweByPop.hwe%s = gs.filter(g => sa.pheno.SuperPopulation == \"%s\").hardyWeinberg()' % (pop, pop) for pop in populations]"
   ]
  },
  {
   "cell_type": "markdown",
   "metadata": {},
   "source": [
    "Now we can go ahead and use [`annotate_variants_expr`](https://hail.is/hail/hail.VariantDataset.html#hail.VariantDataset.annotate_variants_expr)."
   ]
  },
  {
   "cell_type": "code",
   "execution_count": null,
   "metadata": {
    "collapsed": false
   },
   "outputs": [],
   "source": [
    "vds_gAB_sCR_sGQ = vds_gAB_sCR_sGQ.annotate_variants_expr(hwe_expressions).persist()\n",
    "\n",
    "print(vds_gAB_sCR_sGQ.variant_schema)"
   ]
  },
  {
   "cell_type": "markdown",
   "metadata": {},
   "source": [
    "Above, for each variant, we filter the genotypes to only those genotypes from the population of interest using a filter function on the [genotype aggregable](https://hail.is/hail/types.html#aggregable-genotype) and then calculate the Hardy-Weinberg Equilibrium p-value using the `hardyWeinberg()` function on the filtered genotype aggregable.\n",
    "\n",
    "The [`persist`](https://hail.is/hail/hail.VariantDataset.html#hail.VariantDataset.persist) method caches the dataset in its current state on memory/disk, so that downstream processing will be faster. \n",
    "\n",
    "Printing the schema reveals that we've added new fields to the variant annotations for HWE p-values for each population. We've got quite a few variant annotations now! Notice that the results of these annotation statements are structs containing two elements:\n",
    "\n",
    "<pre class=\"code noexec\">\n",
    "...\n",
    "        hweEUR: Struct {\n",
    "            rExpectedHetFrequency: Double,\n",
    "            pHWE: Double\n",
    "        },\n",
    "        hweSAS: Struct {\n",
    "            rExpectedHetFrequency: Double,\n",
    "            pHWE: Double\n",
    "        },\n",
    "        hweAMR: Struct {\n",
    "            rExpectedHetFrequency: Double,\n",
    "            pHWE: Double\n",
    "        },\n",
    "        hweAFR: Struct {\n",
    "            rExpectedHetFrequency: Double,\n",
    "            pHWE: Double\n",
    "        },\n",
    "        hweEAS: Struct {\n",
    "            rExpectedHetFrequency: Double,\n",
    "            pHWE: Double\n",
    "        }\n",
    "    }\n",
    "}\n",
    "</pre>\n",
    "\n",
    "We can now filter variants based on HWE p-values with respect to each population."
   ]
  },
  {
   "cell_type": "code",
   "execution_count": null,
   "metadata": {
    "collapsed": false
   },
   "outputs": [],
   "source": [
    "hwe_filter_expression = \" && \".join(['va.hweByPop.hwe%s.pHWE > 1e-6' % pop for pop in populations])\n",
    "vds_gAD_sCR_sGQ_vHWE = vds_gAB_sCR_sGQ.filter_variants_expr(hwe_filter_expression)\n",
    "\n",
    "print('variants after HWE filter: %d' % vds_gAD_sCR_sGQ_vHWE.count_variants())"
   ]
  },
  {
   "cell_type": "markdown",
   "metadata": {},
   "source": [
    "Running [`count_variants`](https://hail.is/hail/hail.VariantDataset.html#hail.VariantDataset.count_variants), we see that by calculating HWE p-values in each population separately, we keep 10891 variants, filtering out 70.  We would have filtered far more if we used the population-agnostic single statistic!\n",
    "\n",
    "Lastly we use the [`filter_variants_expr`](https://hail.is/hail/hail.VariantDataset.html#hail.VariantDataset.filter_variants_expr) method again to keep only those variants with a mean GQ greater than or equal to 20."
   ]
  },
  {
   "cell_type": "code",
   "execution_count": null,
   "metadata": {
    "collapsed": false
   },
   "outputs": [],
   "source": [
    "vds_gAD_sCR_sGQ_vHWE_vGQ = vds_gAD_sCR_sGQ_vHWE.filter_variants_expr('va.qc.gqMean >= 20')\n",
    "\n",
    "print('variants after GQ filter: %d' % vds_gAD_sCR_sGQ_vHWE_vGQ.count_variants())"
   ]
  },
  {
   "cell_type": "markdown",
   "metadata": {},
   "source": [
    "We are left with 10662 total variants.\n",
    "\n",
    "### Sex check\n",
    "\n",
    "It's *always* a good idea to check that the reported sex of samples is consistent with sex chromosome ploidy estimated directly from genetic data. A high sex-check failure rate would suggest that sample swaps may have occurred.\n",
    "\n",
    "There are 273 X chromosome variants in the original dataset:"
   ]
  },
  {
   "cell_type": "code",
   "execution_count": null,
   "metadata": {
    "collapsed": false
   },
   "outputs": [],
   "source": [
    "vds.filter_variants_expr('v.contig == \"X\"').count_variants()"
   ]
  },
  {
   "cell_type": "markdown",
   "metadata": {},
   "source": [
    "However, after variant QC, the number of X chromosome variants has dropped to 164."
   ]
  },
  {
   "cell_type": "code",
   "execution_count": null,
   "metadata": {
    "collapsed": false
   },
   "outputs": [],
   "source": [
    "vds_gAD_sCR_sGQ_vHWE_vGQ.filter_variants_expr('v.contig == \"X\"').count_variants()"
   ]
  },
  {
   "cell_type": "markdown",
   "metadata": {},
   "source": [
    "Oops! HWE statistics on the X chromosome should ignore male samples, since males have only two possible genotypes (HomRef or HomVar). We're going to have to go back to `vds_gAB_sCR_sGQ` and modify how we calculate HWE. We use a conditional expression on the [Variant object method](https://hail.is/hail/types.html#variant) `v.isAutosomal` so that variants on the X chromosome will only include female samples in the calculation. We can also use the same `hwe_filter_expression` from above."
   ]
  },
  {
   "cell_type": "code",
   "execution_count": null,
   "metadata": {
    "collapsed": false
   },
   "outputs": [],
   "source": [
    "sex_aware_hwe_exprs = [\n",
    "'''va.hweByPop.hwe{pop} = \n",
    "if (v.isAutosomal())\n",
    " gs.filter(g => sa.pheno.SuperPopulation == \"{pop}\").hardyWeinberg()\n",
    "else\n",
    "  gs.filter(g => sa.pheno.SuperPopulation == \"{pop}\" && sa.pheno.isFemale).hardyWeinberg()'''.format(pop = p) for p in populations]\n",
    "\n",
    "vds_filtered = (vds_gAB_sCR_sGQ\n",
    "    .annotate_variants_expr(sex_aware_hwe_exprs)\n",
    "    .filter_variants_expr(hwe_filter_expression + '&& va.qc.gqMean >= 20')\n",
    "    .persist())\n",
    "\n",
    "print('total variants = %s' % vds_filtered.count_variants())\n",
    "print('X chromosome variants = %s' % vds_filtered.query_variants(['variants.filter(v => v.contig == \"X\").count()'])[0])"
   ]
  },
  {
   "cell_type": "markdown",
   "metadata": {},
   "source": [
    "For sex check, we first use the [`impute_sex`](https://hail.is/hail/hail.VariantDataset.html#hail.VariantDataset.impute_sex) method with a minimum minor allele frequency threshold `maf_threshold` argument of 0.05 to determine the genetic sex of each sample based on the inbreeding coefficient. `impute_sex` adds the Boolean sample annotation `sa.imputesex.isFemale` and we then create a new Boolean sample annotation `sa.sexcheck` which indicates whether the imputed sex `sa.imputesex.isFemale` is the same as the reported sex `sa.pheno.isFemale`."
   ]
  },
  {
   "cell_type": "code",
   "execution_count": null,
   "metadata": {
    "collapsed": false
   },
   "outputs": [],
   "source": [
    "vds_sex_check = (vds_filtered\n",
    "    .impute_sex(maf_threshold=0.05)\n",
    "    .annotate_samples_expr('sa.sexcheck = sa.pheno.isFemale == sa.imputesex.isFemale'))\n",
    "total_samples = vds_sex_check.num_samples\n",
    "sex_check_passes = vds_sex_check.filter_samples_expr('sa.sexcheck').num_samples\n",
    "\n",
    "print('total samples: %s' % total_samples)\n",
    "print('sex_check_passes: %s' % sex_check_passes)"
   ]
  },
  {
   "cell_type": "markdown",
   "metadata": {},
   "source": [
    "We see that the genetic sex does not match the reported sex for 567 samples, an extremely high sex check failure rate! To figure out why this happened, we can use a Hail expression to look at the values that `sa.sexcheck` takes."
   ]
  },
  {
   "cell_type": "code",
   "execution_count": null,
   "metadata": {
    "collapsed": false
   },
   "outputs": [],
   "source": [
    "[counter] = vds_sex_check.query_samples(['samples.map(s => sa.sexcheck).counter()'])\n",
    "for k, v in counter.iteritems():\n",
    "    print('population %s found %s times' % (k, v))"
   ]
  },
  {
   "cell_type": "markdown",
   "metadata": {},
   "source": [
    "Aha! While we only have 1 'false' sex-check values, we have 71 missing sex-check values. Since `pheno.isFemale` is never missing in the sample annotations file, this means that there were 71 samples that could not be confidently imputed as male or female. This is because in our small dataset the number of variants on the X chromosome (about 200) is not sufficient to impute sex reliably. Let's instead keep those samples with missing sex-check."
   ]
  },
  {
   "cell_type": "code",
   "execution_count": null,
   "metadata": {
    "collapsed": false
   },
   "outputs": [],
   "source": [
    "vds_QCed = vds_sex_check.filter_samples_expr('sa.sexcheck || isMissing(sa.sexcheck)').persist()\n",
    "\n",
    "print('samples after filter: %s' % vds_QCed.num_samples)"
   ]
  },
  {
   "cell_type": "markdown",
   "metadata": {},
   "source": [
    "## PCA\n",
    "\n",
    "To account for population stratification in association testing, we use principal component analysis to compute features that are proxies for genetic similarity. PCA is typically performed on variants in linkage equilibrium. The text file *purcell5k.interval_list* contains a list of such independent common variants.\n",
    "\n",
    "To calculate principal components, we first use the [`filter_variants_intervals`](https://hail.is/hail/hail.VariantDataset.html#hail.VariantDataset.filter_variants_intervals) method to filter down to SNPs from this list. Next, we use the [`pca`](https://hail.is/hail/hail.VariantDataset.html#hail.VariantDataset.pca) method to calculate the first 10 principal components (10 is the default number). The results are stored as sample annotations with root given by the `scores` parameter."
   ]
  },
  {
   "cell_type": "code",
   "execution_count": null,
   "metadata": {
    "collapsed": true
   },
   "outputs": [],
   "source": [
    "purcell_filter = IntervalTree.read('purcell5k.interval_list')\n",
    "vds_pca = (vds_QCed.filter_variants_intervals(purcell_filter)\n",
    "    .pca(scores='sa.pca'))"
   ]
  },
  {
   "cell_type": "markdown",
   "metadata": {},
   "source": [
    "We can then make a Python plot of the samples in PC space colored by population group:"
   ]
  },
  {
   "cell_type": "code",
   "execution_count": null,
   "metadata": {
    "collapsed": false
   },
   "outputs": [],
   "source": [
    "pca_table = vds_pca.samples_keytable().to_pandas()\n",
    "colors = {'AFR': 'black', 'AMR': 'red', 'EAS': 'green', 'EUR': 'blue', 'SAS': 'cyan'}\n",
    "plt.scatter(pca_table[\"sa.pca.PC1\"], pca_table[\"sa.pca.PC2\"], c = pca_table[\"sa.pheno.SuperPopulation\"].map(colors), alpha = .5)\n",
    "plt.xlabel(\"PC1\")\n",
    "plt.ylabel(\"PC2\")\n",
    "legend_entries = [mpatches.Patch(color= c, label=pheno) for pheno, c in colors.items()]\n",
    "plt.legend(handles=legend_entries)\n",
    "plt.show()"
   ]
  },
  {
   "cell_type": "markdown",
   "metadata": {},
   "source": [
    "## Association testing\n",
    "\n",
    "Now that we have a clean dataset with principal component annotations, let's test for association between genetic variation and the phenotypes CaffeineConsumption (continuous) and PurpleHair (dichotomous).\n",
    "\n",
    "### Linear regression with covariates\n",
    "\n",
    "Let's run linear regression on `vds_QCed`. First, we will filter to variants with a allele frequency between 5% and 95%. Next, we use the [`linreg`](https://hail.is/hail/hail.VariantDataset.html#hail.VariantDataset.linreg) method, specifying the response variable `y` to be the sample annotation `sa.pheno.CaffeineConsumption`. We use four sample covariates in addition to the (implicit) intercept: `sa.pca.PC1`, `sa.pca.PC2`, `sa.pca.PC3`, `sa.pheno.isFemale`."
   ]
  },
  {
   "cell_type": "code",
   "execution_count": null,
   "metadata": {
    "collapsed": false
   },
   "outputs": [],
   "source": [
    "vds_gwas = (vds_QCed\n",
    "    .filter_variants_expr('va.qc.AF > 0.05 && va.qc.AF < 0.95')\n",
    "    .annotate_samples_table(vds_pca.samples_keytable(), expr='sa.pca = table.sa.pca')\n",
    "    .linreg('sa.pheno.CaffeineConsumption', \n",
    "            covariates=['sa.pca.PC1', 'sa.pca.PC2', 'sa.pca.PC3', 'sa.pheno.isFemale']))"
   ]
  },
  {
   "cell_type": "markdown",
   "metadata": {},
   "source": [
    "The results of linear regression are stored as variant annotations and can be accessed with the root name `va.linreg`. To check for p-value inflation and significant associations, let's create a log-scaled [Q-Q plot](https://en.wikipedia.org/wiki/Q%E2%80%93Q_plot). We'll be making such plots a few times, so let's first define a function for this purpose."
   ]
  },
  {
   "cell_type": "code",
   "execution_count": null,
   "metadata": {
    "collapsed": true
   },
   "outputs": [],
   "source": [
    "def qqplot(pvals, xMax, yMax):\n",
    "    spvals = sorted(filter(lambda x: not(isnan(x)), pvals))\n",
    "    exp = [-log(float(i) / len(spvals), 10) for i in np.arange(1, len(spvals) + 1, 1)]\n",
    "    obs = [-log(p, 10) for p in spvals]\n",
    "    plt.scatter(exp, obs)\n",
    "    plt.plot(np.arange(0, max(xMax, yMax)), c=\"red\")\n",
    "    plt.xlabel(\"Expected p-value (-log10 scale)\")\n",
    "    plt.ylabel(\"Observed p-value (-log10 scale)\")\n",
    "    plt.xlim(0, xMax)\n",
    "    plt.ylim(0, yMax)\n",
    "    plt.show()"
   ]
  },
  {
   "cell_type": "markdown",
   "metadata": {},
   "source": [
    "With this new function, we can make a Q-Q plot for our linear regression as follows."
   ]
  },
  {
   "cell_type": "code",
   "execution_count": null,
   "metadata": {
    "collapsed": false
   },
   "outputs": [],
   "source": [
    "linreg_pvals = sorted(vds_gwas.variants_keytable().to_pandas()[\"va.linreg.pval\"])\n",
    "qqplot(linreg_pvals, 5, 6)"
   ]
  },
  {
   "cell_type": "markdown",
   "metadata": {},
   "source": [
    "### Logistic regression with covariates\n",
    "\n",
    "We continue from `vds_gwas`. The logistic regression method [`logreg`](https://hail.is/hail/hail.VariantDataset.html#hail.VariantDataset.logreg) also takes a test type argument. We will use the Wald test."
   ]
  },
  {
   "cell_type": "code",
   "execution_count": null,
   "metadata": {
    "collapsed": true
   },
   "outputs": [],
   "source": [
    "vds_gwas = (vds_gwas\n",
    "    .logreg(test='wald', y='sa.pheno.PurpleHair',\n",
    "            covariates=['sa.pca.PC1', 'sa.pca.PC2', 'sa.pca.PC3', 'sa.pheno.isFemale']))"
   ]
  },
  {
   "cell_type": "markdown",
   "metadata": {},
   "source": [
    "We can reuse our Q-Q plot function:"
   ]
  },
  {
   "cell_type": "code",
   "execution_count": null,
   "metadata": {
    "collapsed": false
   },
   "outputs": [],
   "source": [
    "logreg_pvals = vds_gwas.variants_keytable().to_pandas()[\"va.logreg.pval\"]\n",
    "qqplot(logreg_pvals, 5, 6)"
   ]
  },
  {
   "cell_type": "markdown",
   "metadata": {},
   "source": [
    "### Fisher's Exact Test for Rare Variants\n",
    "\n",
    "We'll start with `vds_QCed` here (our `vds_gwas` isn't appropriate for rare variant tests because we filtered them all out!). This time we filter to rare variants (allele frequency less than 5% or greater than 95%). Next we annotate variants with four counts about the aggregate statistics of the samples at each position. These new variant annotations can be used as inputs to [Fisher's Exact Test](https://en.wikipedia.org/wiki/Fisher's_exact_test) test which takes as input four integers representing a 2 x 2 contingency table. We define the variant annotation `va.fet` to be the output of the `fet` function in the [expression language](https://hail.is/expr_lang.html). The results are stored in vds_fet with Q-Q plot below."
   ]
  },
  {
   "cell_type": "code",
   "execution_count": null,
   "metadata": {
    "collapsed": false
   },
   "outputs": [],
   "source": [
    "rare_variant_annotations = [\n",
    "    '''va.minorCase = \n",
    "        gs.filter(g => sa.pheno.PurpleHair && g.isHet()).count() +\n",
    "        2 * gs.filter(g => sa.pheno.PurpleHair && g.isHomVar()).count()''',\n",
    "    '''va.minorControl = \n",
    "        gs.filter(g => !sa.pheno.PurpleHair && g.isHet()).count() + \n",
    "        2 * gs.filter(g => !sa.pheno.PurpleHair && g.isHomVar()).count()''',\n",
    "    '''va.majorCase = \n",
    "        gs.filter(g => sa.pheno.PurpleHair && g.isHet()).count() +\n",
    "        2 * gs.filter(g => sa.pheno.PurpleHair && g.isHomRef()).count()''',\n",
    "    '''va.majorControl = \n",
    "        gs.filter(g => !sa.pheno.PurpleHair && g.isHet()).count() +\n",
    "        2 * gs.filter(g => !sa.pheno.PurpleHair && g.isHomRef()).count()''' ]\n",
    "\n",
    "vds_fet = (vds_QCed\n",
    "    .filter_variants_expr('va.qc.AF <= 0.05 || va.qc.AF >= 0.95')\n",
    "    .annotate_variants_expr(rare_variant_annotations)\n",
    "    .annotate_variants_expr('''va.fet = \n",
    "                                fet(va.minorCase.toInt(), va.minorControl.toInt(),\n",
    "                                    va.majorCase.toInt(), va.majorControl.toInt())'''))\n",
    "\n",
    "fet_pvals = vds_fet.variants_keytable().to_pandas()[\"va.fet.pValue\"]\n",
    "qqplot(fet_pvals, 5, 6)"
   ]
  },
  {
   "cell_type": "markdown",
   "metadata": {},
   "source": [
    "## Eplilogue\n",
    "\n",
    "Congrats! If you've made it this far, you're perfectly primed to read the [Overview](https://hail.is/hail/overview.html), look through the [Hail objects](https://hail.is/hail/types.html) representing many core concepts in genetics, and check out the many Hail functions defined in the [Python API](https://hail.is/hail/api.html). As you use Hail for your own science, we'd love to hear from you on [Gitter chat](https://gitter.im/hail-is/hail) or the [discussion forum](http://discuss.hail.is).\n",
    "\n",
    "For reference, here's the full workflow to all tutorial endpoints combined into one script, assuming you've already created the expression strings like `filter_condition_ab` above."
   ]
  },
  {
   "cell_type": "code",
   "execution_count": null,
   "metadata": {
    "collapsed": false
   },
   "outputs": [],
   "source": [
    "sample_annotations = hc.import_keytable('1000Genomes.sample_annotations', impute=True).key_by('Sample')\n",
    "\n",
    "vds_gAB_vCR = (hc.import_vcf('1000Genomes_248samples_coreExome10K.vcf.bgz')\n",
    "         .split_multi()\n",
    "         .annotate_samples_table(table, root='sa.pheno')\n",
    "         .filter_genotypes(filter_condition_ab)\n",
    "         .filter_variants_expr('gs.fraction(g => g.isCalled()) > 0.95')\n",
    "         .sample_qc())\n",
    "\n",
    "vds_QCed = (vds_gAB_vCR\n",
    "    .annotate_samples_table(vds_gAB_vCR.samples_keytable(), expr = 'sa.qc = table.sa.qc')\n",
    "    .filter_samples_expr('sa.qc.callRate >= 0.97 && sa.qc.gqMean >= 20')\n",
    "    .variant_qc()\n",
    "    .annotate_variants_expr(sex_aware_hwe_exprs)\n",
    "    .filter_variants_expr(hwe_filter_expression + '&& va.qc.gqMean >= 20')\n",
    "    .impute_sex(maf_threshold=0.05)\n",
    "    .annotate_samples_expr('sa.sexcheck = sa.pheno.isFemale == sa.imputesex.isFemale')\n",
    "    .filter_samples_expr('sa.sexcheck || isMissing(sa.sexcheck)'))\n",
    "\n",
    "vds_pca = (vds_QCed.filter_variants_intervals(IntervalTree.read('purcell5k.interval_list'))\n",
    "    .pca(scores='sa.pca'))\n",
    "\n",
    "vds_gwas = (vds_QCed\n",
    "    .filter_variants_expr('va.qc.AF > 0.05 && va.qc.AF < 0.95')\n",
    "    .annotate_samples_table(vds_pca.samples_keytable(), expr='sa.pca = table.sa.pca')\n",
    "    .linreg('sa.pheno.CaffeineConsumption', \n",
    "            covariates=['sa.pca.PC1', 'sa.pca.PC2', 'sa.pca.PC3', 'sa.pheno.isFemale'])\n",
    "    .logreg(test='wald', y='sa.pheno.PurpleHair',\n",
    "            covariates=['sa.pca.PC1', 'sa.pca.PC2', 'sa.pca.PC3', 'sa.pheno.isFemale']))\n",
    "\n",
    "vds_fet = (vds_QCed\n",
    "    .filter_variants_expr('va.qc.AF <= 0.05 || va.qc.AF >= 0.95')\n",
    "    .annotate_variants_expr(rare_variant_annotations)\n",
    "    .annotate_variants_expr('''va.fet = fet(va.minorCase.toInt(), va.minorControl.toInt(),\n",
    "                                            va.majorCase.toInt(), va.majorControl.toInt())'''))"
   ]
  },
  {
   "cell_type": "code",
   "execution_count": null,
   "metadata": {
    "collapsed": true
   },
   "outputs": [],
   "source": []
  }
 ],
 "metadata": {
  "anaconda-cloud": {},
  "kernelspec": {
   "display_name": "Python [default]",
   "language": "python",
   "name": "python2"
  },
  "language_info": {
   "codemirror_mode": {
    "name": "ipython",
    "version": 2
   },
   "file_extension": ".py",
   "mimetype": "text/x-python",
   "name": "python",
   "nbconvert_exporter": "python",
   "pygments_lexer": "ipython2",
   "version": "2.7.12"
  }
 },
 "nbformat": 4,
 "nbformat_minor": 0
}
